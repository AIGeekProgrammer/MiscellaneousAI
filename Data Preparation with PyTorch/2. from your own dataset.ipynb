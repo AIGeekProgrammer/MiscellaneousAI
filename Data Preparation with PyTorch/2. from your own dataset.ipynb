{
 "cells": [
  {
   "cell_type": "code",
   "execution_count": 1,
   "id": "df3bde86",
   "metadata": {},
   "outputs": [],
   "source": [
    "# Szymon Manduk\n",
    "# August 5, 2021\n",
    "# Import data from your own dataset and iterate over data\n",
    "# The notebook is a part of \"Data preparation with Dataset and DataLoader in Pytorch\" blog post\n",
    "# https://aigeekprogrammer.com/data-preparation-with-dataset-and-dataloader-in-pytorch/"
   ]
  },
  {
   "cell_type": "code",
   "execution_count": 11,
   "id": "a28e71d4",
   "metadata": {},
   "outputs": [],
   "source": [
    "import torch\n",
    "from torch.utils.data import Dataset, DataLoader"
   ]
  },
  {
   "cell_type": "code",
   "execution_count": 16,
   "id": "5aa0a19c",
   "metadata": {},
   "outputs": [],
   "source": [
    "# The first step is to define our own class that inherits from the \"abstract\" Dataset class\n",
    "# The implementation requires overwriting 2 methods: _getitem__ and __len__\n",
    "# Also, we move the data generation to the init method\n",
    "\n",
    "class RandomIntDataset(Dataset):\n",
    "    def __init__(self, start, stop, x, y):\n",
    "        # randomly generate an array of ints that will act as data\n",
    "        self.data   = torch.randint(start, stop, (x,y))\n",
    "        # randomly generate a vector of ints that act as labels\n",
    "        self.labels = torch.randint(0, 10, (x,))\n",
    "    \n",
    "    def __len__(self):\n",
    "        # the size of the dataset is equal to the length of the vector\n",
    "        return len(self.labels)\n",
    "    \n",
    "    def __str__(self):\n",
    "        #  combine both data structures to present them in the form of a single table\n",
    "        return str(torch.cat((self.data, self.labels.unsqueeze(1)), 1))\n",
    "\n",
    "    def __getitem__(self, i):\n",
    "        # the method returns a pair of data - label for a given index i\n",
    "        return self.data[i], self.labels[i]\n",
    "    \n"
   ]
  },
  {
   "cell_type": "code",
   "execution_count": 17,
   "id": "adaaeb4d",
   "metadata": {},
   "outputs": [],
   "source": [
    "dataset = RandomIntDataset(100, 1000, 500, 10)"
   ]
  },
  {
   "cell_type": "code",
   "execution_count": 18,
   "id": "343b01db",
   "metadata": {},
   "outputs": [
    {
     "data": {
      "text/plain": [
       "500"
      ]
     },
     "execution_count": 18,
     "metadata": {},
     "output_type": "execute_result"
    }
   ],
   "source": [
    "len(dataset)"
   ]
  },
  {
   "cell_type": "code",
   "execution_count": 19,
   "id": "0ebe708f",
   "metadata": {},
   "outputs": [
    {
     "name": "stdout",
     "output_type": "stream",
     "text": [
      "tensor([[627, 160, 881,  ..., 485, 457,   9],\n",
      "        [705, 511, 947,  ..., 744, 465,   5],\n",
      "        [692, 427, 701,  ..., 639, 378,   9],\n",
      "        ...,\n",
      "        [601, 228, 749,  ..., 155, 823,   4],\n",
      "        [599, 627, 802,  ..., 179, 693,   4],\n",
      "        [740, 861, 697,  ..., 286, 160,   4]])\n"
     ]
    }
   ],
   "source": [
    "print(dataset)"
   ]
  },
  {
   "cell_type": "code",
   "execution_count": 20,
   "id": "6f605d79",
   "metadata": {},
   "outputs": [],
   "source": [
    "dataset_loader = DataLoader(dataset, batch_size=4, shuffle=True)"
   ]
  },
  {
   "cell_type": "code",
   "execution_count": 21,
   "id": "273ab5dd",
   "metadata": {},
   "outputs": [],
   "source": [
    "data, labels = next(iter(dataset_loader))"
   ]
  },
  {
   "cell_type": "code",
   "execution_count": 24,
   "id": "2d1a774c",
   "metadata": {},
   "outputs": [
    {
     "data": {
      "text/plain": [
       "tensor([[724, 232, 501, 555, 369, 142, 504, 226, 849, 924],\n",
       "        [170, 510, 711, 502, 641, 458, 378, 927, 324, 701],\n",
       "        [838, 482, 299, 379, 181, 394, 473, 739, 888, 265],\n",
       "        [945, 421, 983, 531, 237, 106, 261, 399, 161, 459]])"
      ]
     },
     "execution_count": 24,
     "metadata": {},
     "output_type": "execute_result"
    }
   ],
   "source": [
    "data"
   ]
  },
  {
   "cell_type": "code",
   "execution_count": 25,
   "id": "1a3fcbbc",
   "metadata": {},
   "outputs": [
    {
     "data": {
      "text/plain": [
       "tensor([3, 6, 9, 7])"
      ]
     },
     "execution_count": 25,
     "metadata": {},
     "output_type": "execute_result"
    }
   ],
   "source": [
    "labels"
   ]
  }
 ],
 "metadata": {
  "kernelspec": {
   "display_name": "Python 3",
   "language": "python",
   "name": "python3"
  },
  "language_info": {
   "codemirror_mode": {
    "name": "ipython",
    "version": 3
   },
   "file_extension": ".py",
   "mimetype": "text/x-python",
   "name": "python",
   "nbconvert_exporter": "python",
   "pygments_lexer": "ipython3",
   "version": "3.8.10"
  }
 },
 "nbformat": 4,
 "nbformat_minor": 5
}
