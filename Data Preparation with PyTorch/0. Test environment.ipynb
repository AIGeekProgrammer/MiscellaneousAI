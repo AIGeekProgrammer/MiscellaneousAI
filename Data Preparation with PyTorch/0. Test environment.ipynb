{
 "cells": [
  {
   "cell_type": "code",
   "execution_count": 1,
   "id": "2aa0f3ea",
   "metadata": {},
   "outputs": [],
   "source": [
    "# Szymon Manduk\n",
    "# July 17, 2021\n",
    "# Just testing the pytorch environment\n",
    "# The notebook is a part of \"Data preparation with Dataset and DataLoader in Pytorch\" blog post\n",
    "# https://aigeekprogrammer.com/data-preparation-with-dataset-and-dataloader-in-pytorch/"
   ]
  },
  {
   "cell_type": "code",
   "execution_count": 1,
   "id": "91b1504a",
   "metadata": {},
   "outputs": [
    {
     "name": "stdout",
     "output_type": "stream",
     "text": [
      "tensor([[0.8936, 0.1527, 0.3943],\n",
      "        [0.3149, 0.5972, 0.6236],\n",
      "        [0.2509, 0.7076, 0.2557],\n",
      "        [0.1687, 0.9009, 0.5193],\n",
      "        [0.9731, 0.0919, 0.9466]])\n"
     ]
    }
   ],
   "source": [
    "import torch\n",
    "x = torch.rand(5, 3)\n",
    "print(x)"
   ]
  },
  {
   "cell_type": "code",
   "execution_count": null,
   "id": "0045ec95",
   "metadata": {},
   "outputs": [],
   "source": []
  }
 ],
 "metadata": {
  "kernelspec": {
   "display_name": "Python 3",
   "language": "python",
   "name": "python3"
  },
  "language_info": {
   "codemirror_mode": {
    "name": "ipython",
    "version": 3
   },
   "file_extension": ".py",
   "mimetype": "text/x-python",
   "name": "python",
   "nbconvert_exporter": "python",
   "pygments_lexer": "ipython3",
   "version": "3.8.10"
  }
 },
 "nbformat": 4,
 "nbformat_minor": 5
}
