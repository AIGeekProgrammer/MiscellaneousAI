{
 "cells": [
  {
   "cell_type": "code",
   "execution_count": 1,
   "id": "ba9ad62b",
   "metadata": {},
   "outputs": [],
   "source": [
    "# Monte Carlo with cards\n",
    "# Szymon Manduk\n",
    "# Oct 9, 2021"
   ]
  },
  {
   "cell_type": "code",
   "execution_count": 2,
   "id": "285877f5",
   "metadata": {},
   "outputs": [],
   "source": [
    "from random import shuffle\n",
    "from copy import deepcopy"
   ]
  },
  {
   "cell_type": "code",
   "execution_count": 3,
   "id": "fd2dab92",
   "metadata": {},
   "outputs": [],
   "source": [
    "# Define the deck of cards\n",
    "# e.g. AS = Ace of spades\n",
    "cards = [\n",
    "    'AH', 'AD', 'AC', 'AS',\n",
    "    'KH', 'KD', 'KC', 'KS',\n",
    "    'QH', 'QD', 'QC', 'QS',\n",
    "    'JH', 'JD', 'JC', 'JS',\n",
    "    '10H', '10D', '10C', '10S',\n",
    "    '9H', '9D', '9C', '9S',\n",
    "    '8H', '8D', '8C', '8S',\n",
    "    '7H', '7D', '7C', '7S',\n",
    "    '6H', '6D', '6C', '6S',\n",
    "    '5H', '5D', '5C', '5S',\n",
    "    '4H', '4D', '4C', '4S',\n",
    "    '3H', '3D', '3C', '3S',\n",
    "    '2H', '2D', '2C', '2S',\n",
    "    ]"
   ]
  },
  {
   "cell_type": "code",
   "execution_count": 4,
   "id": "0b9d3b3b",
   "metadata": {},
   "outputs": [
    {
     "name": "stdout",
     "output_type": "stream",
     "text": [
      "['AH', 'AD', 'AC', 'AS', 'KH', 'KD', 'KC', 'KS', 'QH', 'QD', 'QC', 'QS', 'JH', 'JD', 'JC', 'JS', '10H', '10D', '10C', '10S', '9H', '9D', '9C', '9S', '8H', '8D', '8C', '8S', '7H', '7D', '7C', '7S', '6H', '6D', '6C', '6S', '5H', '5D', '5C', '5S', '4H', '4D', '4C', '4S', '3H', '3D', '3C', '3S', '2H', '2D', '2C', '2S']\n"
     ]
    }
   ],
   "source": [
    "print(cards)"
   ]
  },
  {
   "cell_type": "code",
   "execution_count": 5,
   "id": "6f4e5730",
   "metadata": {},
   "outputs": [
    {
     "data": {
      "text/plain": [
       "52"
      ]
     },
     "execution_count": 5,
     "metadata": {},
     "output_type": "execute_result"
    }
   ],
   "source": [
    "len(cards)"
   ]
  },
  {
   "cell_type": "code",
   "execution_count": 6,
   "id": "18e904ed",
   "metadata": {},
   "outputs": [],
   "source": [
    "new_deck = deepcopy(cards)"
   ]
  },
  {
   "cell_type": "code",
   "execution_count": 7,
   "id": "01018da7",
   "metadata": {},
   "outputs": [
    {
     "name": "stdout",
     "output_type": "stream",
     "text": [
      "['10C', '9S', '4C', 'AS', 'JC', '6S', '2C', '8S', 'KH', '8C', '2D', 'AD', 'AH', 'QS', '9D', '3D', '10H', '7H', '8D', 'KC', 'JS', 'QC', '2H', '7C', '7S', '3S', 'JH', 'AC', '4D', '6H', '3C', '9C', '5S', '5C', '3H', '10S', '9H', 'QD', '7D', 'QH', '4S', '6C', '4H', '6D', 'KD', 'KS', '5H', 'JD', '2S', '5D', '10D', '8H']\n"
     ]
    }
   ],
   "source": [
    "shuffle(new_deck)\n",
    "print(new_deck) # shuffled"
   ]
  },
  {
   "cell_type": "code",
   "execution_count": 8,
   "id": "af778426",
   "metadata": {},
   "outputs": [
    {
     "name": "stdout",
     "output_type": "stream",
     "text": [
      "['AH', 'AD', 'AC', 'AS', 'KH', 'KD', 'KC', 'KS', 'QH', 'QD', 'QC', 'QS', 'JH', 'JD', 'JC', 'JS', '10H', '10D', '10C', '10S', '9H', '9D', '9C', '9S', '8H', '8D', '8C', '8S', '7H', '7D', '7C', '7S', '6H', '6D', '6C', '6S', '5H', '5D', '5C', '5S', '4H', '4D', '4C', '4S', '3H', '3D', '3C', '3S', '2H', '2D', '2C', '2S']\n"
     ]
    }
   ],
   "source": [
    "print(cards) # original - not shuffled"
   ]
  },
  {
   "cell_type": "code",
   "execution_count": 9,
   "id": "9ffa955b",
   "metadata": {},
   "outputs": [],
   "source": [
    "# Monte Carlo for probability that we get Jack next to another Jack in a random deal of cards\n",
    "def monte_carlo_2_Jacks(n, cards):\n",
    "    events = 0\n",
    "    for i in range(n):\n",
    "        new_deck = deepcopy(cards)\n",
    "        shuffle(new_deck)\n",
    "        if check_cards(new_deck, 'J'):\n",
    "            events+=1\n",
    "    return events / n"
   ]
  },
  {
   "cell_type": "code",
   "execution_count": 10,
   "id": "4c951905",
   "metadata": {},
   "outputs": [],
   "source": [
    "# Let's check if we have number of cards \"no_of_cards_in_row\" times in a row \n",
    "def check_cards(cards, search_card, no_of_cards_in_row=2):\n",
    "    \n",
    "    if (no_of_cards_in_row != 2) and (no_of_cards_in_row != 3):\n",
    "        print(\"Invalid number of cards in a row!\")\n",
    "        return False\n",
    "    \n",
    "    length = len(cards)\n",
    "    found = False\n",
    "    \n",
    "    for i, card in enumerate(cards):\n",
    "    \n",
    "        if (no_of_cards_in_row == 2) and (i == length - 1):\n",
    "            break\n",
    "        elif (no_of_cards_in_row == 3) and (i == length - 2):\n",
    "            break\n",
    "        \n",
    "        this_card = card\n",
    "        next_card = cards[i+1]\n",
    "        if no_of_cards_in_row == 3:\n",
    "            next_next_card = cards[i+2]\n",
    "        \n",
    "        if (this_card[0] == search_card) and (next_card[0] == search_card):\n",
    "            if no_of_cards_in_row == 2:\n",
    "                found = True\n",
    "                break\n",
    "            elif (no_of_cards_in_row == 3) and (next_next_card[0] == search_card):\n",
    "                found = True\n",
    "                break\n",
    "    \n",
    "    return found"
   ]
  },
  {
   "cell_type": "code",
   "execution_count": 11,
   "id": "449b108a",
   "metadata": {},
   "outputs": [
    {
     "name": "stdout",
     "output_type": "stream",
     "text": [
      "10 times gives the probability of 0.1\n",
      "100 times gives the probability of 0.2\n",
      "1000 times gives the probability of 0.225\n",
      "10000 times gives the probability of 0.219\n",
      "100000 times gives the probability of 0.21774\n",
      "1000000 times gives the probability of 0.218097\n"
     ]
    }
   ],
   "source": [
    "for i in (10**p for p in range(1, 7)):\n",
    "    prob = monte_carlo_2_Jacks(i, cards)\n",
    "    print(i, \"times gives the probability of\", prob )"
   ]
  },
  {
   "cell_type": "code",
   "execution_count": 12,
   "id": "717b3c93",
   "metadata": {},
   "outputs": [],
   "source": [
    "# Monte Carlo for probability that we get 3 Jacks in a row in a random deal of cards\n",
    "def monte_carlo_3_Jacks(n, cards):\n",
    "    events = 0\n",
    "    for i in range(n):\n",
    "        new_deck = deepcopy(cards)\n",
    "        shuffle(new_deck)\n",
    "        if check_cards(new_deck, 'J', 3):\n",
    "            events+=1\n",
    "    return events / n"
   ]
  },
  {
   "cell_type": "code",
   "execution_count": 13,
   "id": "6f3233a6",
   "metadata": {},
   "outputs": [
    {
     "name": "stdout",
     "output_type": "stream",
     "text": [
      "10 times gives the probability of 0.0\n",
      "100 times gives the probability of 0.02\n",
      "1000 times gives the probability of 0.004\n",
      "10000 times gives the probability of 0.0081\n",
      "100000 times gives the probability of 0.00917\n",
      "1000000 times gives the probability of 0.008809\n"
     ]
    }
   ],
   "source": [
    "for i in (10**p for p in range(1, 7)):\n",
    "    prob = monte_carlo_3_Jacks(i, cards)\n",
    "    print(i, \"times gives the probability of\", prob )"
   ]
  },
  {
   "cell_type": "code",
   "execution_count": null,
   "id": "cd367bbf",
   "metadata": {},
   "outputs": [],
   "source": []
  }
 ],
 "metadata": {
  "kernelspec": {
   "display_name": "Python 3",
   "language": "python",
   "name": "python3"
  },
  "language_info": {
   "codemirror_mode": {
    "name": "ipython",
    "version": 3
   },
   "file_extension": ".py",
   "mimetype": "text/x-python",
   "name": "python",
   "nbconvert_exporter": "python",
   "pygments_lexer": "ipython3",
   "version": "3.8.10"
  }
 },
 "nbformat": 4,
 "nbformat_minor": 5
}
