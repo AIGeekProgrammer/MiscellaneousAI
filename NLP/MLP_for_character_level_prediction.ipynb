{
  "nbformat": 4,
  "nbformat_minor": 0,
  "metadata": {
    "colab": {
      "provenance": [],
      "mount_file_id": "1OAnvyNv_Qhu2taWfGTiZ2ssVaZvXxedo",
      "authorship_tag": "ABX9TyNrouWSgz7mNYipLkLZbIMH",
      "include_colab_link": true
    },
    "kernelspec": {
      "name": "python3",
      "display_name": "Python 3"
    },
    "language_info": {
      "name": "python"
    }
  },
  "cells": [
    {
      "cell_type": "markdown",
      "metadata": {
        "id": "view-in-github",
        "colab_type": "text"
      },
      "source": [
        "<a href=\"https://colab.research.google.com/github/AIGeekProgrammer/MiscellaneousAI/blob/main/NLP/MLP_for_character_level_prediction.ipynb\" target=\"_parent\"><img src=\"https://colab.research.google.com/assets/colab-badge.svg\" alt=\"Open In Colab\"/></a>"
      ]
    },
    {
      "cell_type": "markdown",
      "source": [
        "Notebook: MLP for character-level predictions<br>\n",
        "Author: Szymon Manduk<br>\n",
        "Date: Nov 7, 2022<br>\n",
        "Description: implementing multilayer perceptron for character-level prediction  - based on the idea presented by A. Karpathy: https://youtu.be/TCH_1BHY58I and the original paper: https://www.jmlr.org/papers/volume3/bengio03a/bengio03a.pdf<br>"
      ],
      "metadata": {
        "id": "oHM7GLj0Ewa_"
      }
    },
    {
      "cell_type": "code",
      "source": [
        "import torch\n",
        "import numpy as np"
      ],
      "metadata": {
        "id": "6_Zbx7NBTiSN"
      },
      "execution_count": null,
      "outputs": []
    },
    {
      "cell_type": "code",
      "source": [
        "from google.colab import drive\n",
        "drive.mount('/gdrive')"
      ],
      "metadata": {
        "colab": {
          "base_uri": "https://localhost:8080/"
        },
        "id": "79chBQlgHv2O",
        "outputId": "d929ed67-be24-40f0-da44-4448b7994cce"
      },
      "execution_count": null,
      "outputs": [
        {
          "output_type": "stream",
          "name": "stdout",
          "text": [
            "Drive already mounted at /gdrive; to attempt to forcibly remount, call drive.mount(\"/gdrive\", force_remount=True).\n"
          ]
        }
      ]
    },
    {
      "cell_type": "code",
      "source": [
        "# We open the file with names (names.txt), read names into a list while removing newline \n",
        "# and adding character '.' the end of each word.\n",
        "words = []\n",
        "with open('/gdrive/My Drive/Test/names.txt', 'r') as f:\n",
        "  for cnt, line in enumerate(f.readlines()):\n",
        "    words.append(line.rstrip('\\n') + '.')\n",
        "print(words[:5])\n",
        "print(f'Number of words {len(words)}')"
      ],
      "metadata": {
        "id": "W7-kc0QHHv2W",
        "colab": {
          "base_uri": "https://localhost:8080/"
        },
        "outputId": "aa4a5422-6d39-453b-e975-27f5f2dc7547"
      },
      "execution_count": null,
      "outputs": [
        {
          "output_type": "stream",
          "name": "stdout",
          "text": [
            "['emma.', 'olivia.', 'ava.', 'isabella.', 'sophia.']\n",
            "Number of words 32033\n"
          ]
        }
      ]
    },
    {
      "cell_type": "code",
      "source": [
        "# We build a list of all unique letters ...\n",
        "s = set()\n",
        "for word in words:\n",
        "  s.update(list(word))\n",
        "letters = sorted(list(s))\n",
        "letters[:15]"
      ],
      "metadata": {
        "colab": {
          "base_uri": "https://localhost:8080/"
        },
        "id": "9ssVFrJGBiOc",
        "outputId": "84bca210-8725-4f69-a627-d336753a3da6"
      },
      "execution_count": null,
      "outputs": [
        {
          "output_type": "execute_result",
          "data": {
            "text/plain": [
              "['.', 'a', 'b', 'c', 'd', 'e', 'f', 'g', 'h', 'i', 'j', 'k', 'l', 'm', 'n']"
            ]
          },
          "metadata": {},
          "execution_count": 4
        }
      ]
    },
    {
      "cell_type": "code",
      "source": [
        "# ... to be able to convert from a letter to a number and vice versa.\n",
        "char2idx = {ch:i for i,ch in enumerate(letters)}\n",
        "idx2char = {i:ch for i,ch in enumerate(letters)}\n",
        "print(f'Ex: Index for f is {char2idx[\"f\"]}')\n",
        "print(f'Ex: Character for index 14 is {idx2char[14]}')\n",
        "print(f'Ex: Character for index 0 is {idx2char[0]}')"
      ],
      "metadata": {
        "colab": {
          "base_uri": "https://localhost:8080/"
        },
        "id": "lQGPy19FmcC9",
        "outputId": "afb47e8e-6a08-4c4a-e849-8a3769165dd7"
      },
      "execution_count": null,
      "outputs": [
        {
          "output_type": "stream",
          "name": "stdout",
          "text": [
            "Ex: Index for f is 6\n",
            "Ex: Character for index 14 is n\n",
            "Ex: Character for index 0 is .\n"
          ]
        }
      ]
    },
    {
      "cell_type": "code",
      "source": [
        "# Now, we're ready to build the data and label datasets. We need them in a form of:\n",
        "# - data: list of length, containing subsequent letters from a word\n",
        "# - label: list containing the letter that comes after n letters in data.\n",
        "# Let's start with the first few words only to check if it works properly.\n",
        "\n",
        "x, y = [], []  # data and labels lists\n",
        "\n",
        "for _ in range(5):  # let's randomly check 5 words\n",
        "  length = torch.randint(3, 7, (1,)).item()  # just for testing: randomly choose how many characters do we want to use predicting the next character\n",
        "  word = words[torch.randint(0, len(words), (1,)).item()]  # randomly choose word index\n",
        "  \n",
        "  data = '.' * length  # fill data with dots\n",
        "  for ch in word:\n",
        "    y.append(ch) # append label\n",
        "    x.append(data)  # append data\n",
        "    data = data[1:] + ch  # alter data so that it contains one (more) character from the word\n",
        "      \n",
        "  # Debugging results\n",
        "  print(f'Word: {word}')\n",
        "  print(f'Length of n-gram: {length}')\n",
        "  print(f'Data: {x}')\n",
        "  print(f'Labels: {y}\\n')\n",
        "  x, y = [], []"
      ],
      "metadata": {
        "colab": {
          "base_uri": "https://localhost:8080/"
        },
        "id": "QlkRs4Ijwepf",
        "outputId": "1cd8421a-c530-43e1-a6fc-b505daa119bd"
      },
      "execution_count": null,
      "outputs": [
        {
          "output_type": "stream",
          "name": "stdout",
          "text": [
            "Word: anne.\n",
            "Length of n-gram: 5\n",
            "Data: ['.....', '....a', '...an', '..ann', '.anne']\n",
            "Labels: ['a', 'n', 'n', 'e', '.']\n",
            "\n",
            "Word: hendrik.\n",
            "Length of n-gram: 6\n",
            "Data: ['......', '.....h', '....he', '...hen', '..hend', '.hendr', 'hendri', 'endrik']\n",
            "Labels: ['h', 'e', 'n', 'd', 'r', 'i', 'k', '.']\n",
            "\n",
            "Word: vinny.\n",
            "Length of n-gram: 5\n",
            "Data: ['.....', '....v', '...vi', '..vin', '.vinn', 'vinny']\n",
            "Labels: ['v', 'i', 'n', 'n', 'y', '.']\n",
            "\n",
            "Word: mikah.\n",
            "Length of n-gram: 5\n",
            "Data: ['.....', '....m', '...mi', '..mik', '.mika', 'mikah']\n",
            "Labels: ['m', 'i', 'k', 'a', 'h', '.']\n",
            "\n",
            "Word: spencer.\n",
            "Length of n-gram: 4\n",
            "Data: ['....', '...s', '..sp', '.spe', 'spen', 'penc', 'ence', 'ncer']\n",
            "Labels: ['s', 'p', 'e', 'n', 'c', 'e', 'r', '.']\n",
            "\n"
          ]
        }
      ]
    },
    {
      "cell_type": "code",
      "source": [
        "# Now we can create data and label lists for the whole dataset, assuming the length is 3 characters.\n",
        "\n",
        "# Let's measure time elapsed - just for practise.\n",
        "from timeit import default_timer as timer\n",
        "start = timer()\n",
        "\n",
        "x, y = [], []  # data and labels lists\n",
        "length = 3\n",
        "\n",
        "for word in words:  \n",
        "  data = '.' * length  # fill data with dots\n",
        "  for ch in word:\n",
        "    y.append(ch) # append label\n",
        "    x.append(data)  # append data\n",
        "    data = data[1:] + ch  # alter data so that it contains one (more) character from the word\n",
        "\n",
        "end = timer()\n",
        "print(f'Dataset contains {len(y)} elements, computed within {end-start:.2f} seconds.')"
      ],
      "metadata": {
        "id": "iqFJTNBWDpeR",
        "colab": {
          "base_uri": "https://localhost:8080/"
        },
        "outputId": "ae615705-e1be-4d66-f553-80cf540fcdb0"
      },
      "execution_count": null,
      "outputs": [
        {
          "output_type": "stream",
          "name": "stdout",
          "text": [
            "Dataset contains 228146 elements, computed within 0.24 seconds.\n"
          ]
        }
      ]
    },
    {
      "cell_type": "code",
      "source": [
        "# Let's look at an example batch.\n",
        "print(x[10220:10227])\n",
        "print(y[10220:10227])"
      ],
      "metadata": {
        "id": "PcP-1xxzDpRY",
        "colab": {
          "base_uri": "https://localhost:8080/"
        },
        "outputId": "088ae6df-0528-4fa3-d7dd-e72a873d7f22"
      },
      "execution_count": null,
      "outputs": [
        {
          "output_type": "stream",
          "name": "stdout",
          "text": [
            "['lyn', '...', '..a', '.ad', 'adi', 'dil', 'ily']\n",
            "['.', 'a', 'd', 'i', 'l', 'y', 'n']\n"
          ]
        }
      ]
    },
    {
      "cell_type": "code",
      "source": [
        "# We convert characters in data and labels into numbers and from lists to tensors\n",
        "data = torch.empty((len(y), length), dtype=torch.int64)\n",
        "labels = torch.empty((len(y), ), dtype=torch.int64)\n",
        "print(data.shape)\n",
        "print(labels.shape)\n",
        "\n",
        "for i, trigram in enumerate(x):\n",
        "  for j, ch in enumerate(trigram):\n",
        "    data[i,j] = char2idx[ch]\n",
        "for i, label in enumerate(y):\n",
        "  labels[i] = char2idx[label]\n",
        "# print(data[10220:10227])\n",
        "# print(labels[10220:10227])"
      ],
      "metadata": {
        "colab": {
          "base_uri": "https://localhost:8080/"
        },
        "id": "-ZGv8-4w4Cem",
        "outputId": "1d74ef23-6f31-487b-9d25-0d2f31b806c7"
      },
      "execution_count": null,
      "outputs": [
        {
          "output_type": "stream",
          "name": "stdout",
          "text": [
            "torch.Size([228146, 3])\n",
            "torch.Size([228146])\n"
          ]
        }
      ]
    },
    {
      "cell_type": "code",
      "source": [
        "data"
      ],
      "metadata": {
        "colab": {
          "base_uri": "https://localhost:8080/"
        },
        "id": "0wYIUt8RC_Vp",
        "outputId": "64f8fd0c-195b-4f21-b9d5-0f1ea652055a"
      },
      "execution_count": null,
      "outputs": [
        {
          "output_type": "execute_result",
          "data": {
            "text/plain": [
              "tensor([[ 0,  0,  0],\n",
              "        [ 0,  0,  5],\n",
              "        [ 0,  5, 13],\n",
              "        ...,\n",
              "        [26, 26, 25],\n",
              "        [26, 25, 26],\n",
              "        [25, 26, 24]])"
            ]
          },
          "metadata": {},
          "execution_count": 10
        }
      ]
    },
    {
      "cell_type": "code",
      "source": [
        "labels"
      ],
      "metadata": {
        "colab": {
          "base_uri": "https://localhost:8080/"
        },
        "id": "YXrDrsLgDDsa",
        "outputId": "ebecd3b0-47bd-41cd-b97f-4bef32f5c042"
      },
      "execution_count": null,
      "outputs": [
        {
          "output_type": "execute_result",
          "data": {
            "text/plain": [
              "tensor([ 5, 13, 13,  ..., 26, 24,  0])"
            ]
          },
          "metadata": {},
          "execution_count": 11
        }
      ]
    },
    {
      "cell_type": "code",
      "source": [
        "# As the idea of this notebook is based on this work: Bengio et al. 2003 MLP language model paper (pdf): https://www.jmlr.org/papers/volume3/bengio03a/bengio03a.pdf,\n",
        "# we need to create an embedding table in which we will embedd each character from our data tensor into N-dimentional embedding.\n",
        "# Here we use 2-dimentional embeddings for each of our letters.\n",
        "emb_dim = 2\n",
        "emb = torch.randn(len(letters), emb_dim, requires_grad=True)\n",
        "for i, e in enumerate(emb):\n",
        "  print(f'{i} : {e}')"
      ],
      "metadata": {
        "colab": {
          "base_uri": "https://localhost:8080/"
        },
        "id": "5c9oJXCv4CbV",
        "outputId": "d338e5d3-2dbe-4fd6-d1f9-a1ea399d0989"
      },
      "execution_count": null,
      "outputs": [
        {
          "output_type": "stream",
          "name": "stdout",
          "text": [
            "0 : tensor([0.2693, 1.7548], grad_fn=<UnbindBackward0>)\n",
            "1 : tensor([-1.2506, -1.6556], grad_fn=<UnbindBackward0>)\n",
            "2 : tensor([1.2044, 0.9200], grad_fn=<UnbindBackward0>)\n",
            "3 : tensor([-0.4333, -0.2287], grad_fn=<UnbindBackward0>)\n",
            "4 : tensor([-0.0069, -0.4519], grad_fn=<UnbindBackward0>)\n",
            "5 : tensor([-0.8248, -0.2599], grad_fn=<UnbindBackward0>)\n",
            "6 : tensor([-0.3566, -0.5098], grad_fn=<UnbindBackward0>)\n",
            "7 : tensor([ 1.1725, -0.1151], grad_fn=<UnbindBackward0>)\n",
            "8 : tensor([-0.7304, -1.2691], grad_fn=<UnbindBackward0>)\n",
            "9 : tensor([-0.3946, -0.1323], grad_fn=<UnbindBackward0>)\n",
            "10 : tensor([-0.7607, -1.3150], grad_fn=<UnbindBackward0>)\n",
            "11 : tensor([-1.0425, -0.3478], grad_fn=<UnbindBackward0>)\n",
            "12 : tensor([-1.3718, -0.7268], grad_fn=<UnbindBackward0>)\n",
            "13 : tensor([0.1731, 0.5872], grad_fn=<UnbindBackward0>)\n",
            "14 : tensor([0.8870, 0.1290], grad_fn=<UnbindBackward0>)\n",
            "15 : tensor([0.0258, 0.1462], grad_fn=<UnbindBackward0>)\n",
            "16 : tensor([-0.6157,  0.8806], grad_fn=<UnbindBackward0>)\n",
            "17 : tensor([-0.0925, -0.6717], grad_fn=<UnbindBackward0>)\n",
            "18 : tensor([1.1141, 1.3570], grad_fn=<UnbindBackward0>)\n",
            "19 : tensor([-1.0693,  1.5412], grad_fn=<UnbindBackward0>)\n",
            "20 : tensor([2.5847, 0.2638], grad_fn=<UnbindBackward0>)\n",
            "21 : tensor([-0.1047,  1.3761], grad_fn=<UnbindBackward0>)\n",
            "22 : tensor([ 0.3801, -0.4145], grad_fn=<UnbindBackward0>)\n",
            "23 : tensor([0.2669, 0.5328], grad_fn=<UnbindBackward0>)\n",
            "24 : tensor([ 0.0978, -0.3024], grad_fn=<UnbindBackward0>)\n",
            "25 : tensor([1.1030, 0.8068], grad_fn=<UnbindBackward0>)\n",
            "26 : tensor([0.1596, 1.5265], grad_fn=<UnbindBackward0>)\n"
          ]
        }
      ]
    },
    {
      "cell_type": "code",
      "source": [
        "# We can pick any arbitrary data in our training dataset (here: datapoints at positions from 10220 to 10227,\n",
        "# which constitues a 3-grams: 'lyn', '...', '..a', '.ad', 'adi', 'dil', 'ily') ...\n",
        "example = [10220, 10221, 10222, 10223, 10224, 10225, 10226, 10227]\n",
        "print(f'Data:\\n {data[example]}\\n')\n",
        "# ... and we can get the corresponding embeddings.\n",
        "print(f'Correspoding embeddings:\\n {emb[data[example]]} \\n with the shape of: {emb[data[example]].shape}')"
      ],
      "metadata": {
        "colab": {
          "base_uri": "https://localhost:8080/"
        },
        "id": "AgS--cCeWm3o",
        "outputId": "508aa15d-743f-451d-ab98-90bd7d47d82d"
      },
      "execution_count": null,
      "outputs": [
        {
          "output_type": "stream",
          "name": "stdout",
          "text": [
            "Data:\n",
            " tensor([[12, 25, 14],\n",
            "        [ 0,  0,  0],\n",
            "        [ 0,  0,  1],\n",
            "        [ 0,  1,  4],\n",
            "        [ 1,  4,  9],\n",
            "        [ 4,  9, 12],\n",
            "        [ 9, 12, 25],\n",
            "        [12, 25, 14]])\n",
            "\n",
            "Correspoding embeddings:\n",
            " tensor([[[-1.3718, -0.7268],\n",
            "         [ 1.1030,  0.8068],\n",
            "         [ 0.8870,  0.1290]],\n",
            "\n",
            "        [[ 0.2693,  1.7548],\n",
            "         [ 0.2693,  1.7548],\n",
            "         [ 0.2693,  1.7548]],\n",
            "\n",
            "        [[ 0.2693,  1.7548],\n",
            "         [ 0.2693,  1.7548],\n",
            "         [-1.2506, -1.6556]],\n",
            "\n",
            "        [[ 0.2693,  1.7548],\n",
            "         [-1.2506, -1.6556],\n",
            "         [-0.0069, -0.4519]],\n",
            "\n",
            "        [[-1.2506, -1.6556],\n",
            "         [-0.0069, -0.4519],\n",
            "         [-0.3946, -0.1323]],\n",
            "\n",
            "        [[-0.0069, -0.4519],\n",
            "         [-0.3946, -0.1323],\n",
            "         [-1.3718, -0.7268]],\n",
            "\n",
            "        [[-0.3946, -0.1323],\n",
            "         [-1.3718, -0.7268],\n",
            "         [ 1.1030,  0.8068]],\n",
            "\n",
            "        [[-1.3718, -0.7268],\n",
            "         [ 1.1030,  0.8068],\n",
            "         [ 0.8870,  0.1290]]], grad_fn=<IndexBackward0>) \n",
            " with the shape of: torch.Size([8, 3, 2])\n"
          ]
        }
      ]
    },
    {
      "cell_type": "code",
      "source": [
        "# Now, we move into constructing a neural network that takes 3 characters (converted into ints and then converted into embeddings like above).\n",
        "# Those embeddings are then transformed into a hidden layer of size h_size, then activated by tanh activation function.\n",
        "# Then a signal goes to the output layer with 27 neurons (corresponding to 27 letters).\n",
        "# The output is softmaxed to get probability distribution of the next character. \n",
        "# A loss can be calculated with CrossEntropy function and the whole model \n",
        "# might be backpropagated up to embeddings, so that they will be fitted to the training dataset.\n",
        "\n",
        "h_size = 100  # the size of the hidden layer\n",
        "\n",
        "# 3 characters embeded in the 2-dim space of embeddings gives us 6 inputs mapped on to h_size neurons in the hidden layer\n",
        "W1 = torch.randn((length*emb_dim, h_size), requires_grad=True)  \n",
        "b1 = torch.randn(h_size, requires_grad=True)  # bias\n",
        "print(f'W1 shape: {W1.shape}, type: {W1.dtype}. Bias shape: {b1.shape}')"
      ],
      "metadata": {
        "id": "bW1J6zGsdZwO",
        "colab": {
          "base_uri": "https://localhost:8080/"
        },
        "outputId": "a038ba16-61d6-4e77-99d3-2bd658d3bc67"
      },
      "execution_count": null,
      "outputs": [
        {
          "output_type": "stream",
          "name": "stdout",
          "text": [
            "W1 shape: torch.Size([6, 100]), type: torch.float32. Bias shape: torch.Size([100])\n"
          ]
        }
      ]
    },
    {
      "cell_type": "code",
      "source": [
        "# We want be able to feed our model with vectors of size embeding dimention \n",
        "# (here emb_dim=2) times n-gram length (here length=3) that equals 6 elements.\n",
        "# Let's take a look at the shape.\n",
        "emb[data[[example[3]]]].view(-1, length*emb_dim).shape"
      ],
      "metadata": {
        "colab": {
          "base_uri": "https://localhost:8080/"
        },
        "id": "r4j4ekBWjI2V",
        "outputId": "8ac1c77c-83ff-41da-8de6-86526373d7cc"
      },
      "execution_count": null,
      "outputs": [
        {
          "output_type": "execute_result",
          "data": {
            "text/plain": [
              "torch.Size([1, 6])"
            ]
          },
          "metadata": {},
          "execution_count": 15
        }
      ]
    },
    {
      "cell_type": "code",
      "source": [
        "# And at some data as well.\n",
        "emb[data[[example[3]]]].view(-1, length*emb_dim)"
      ],
      "metadata": {
        "colab": {
          "base_uri": "https://localhost:8080/"
        },
        "id": "i_fPoXARl5vv",
        "outputId": "e15b900b-2cd3-42f3-8a11-f09a9f316979"
      },
      "execution_count": null,
      "outputs": [
        {
          "output_type": "execute_result",
          "data": {
            "text/plain": [
              "tensor([[ 0.2693,  1.7548, -1.2506, -1.6556, -0.0069, -0.4519]],\n",
              "       grad_fn=<ViewBackward0>)"
            ]
          },
          "metadata": {},
          "execution_count": 16
        }
      ]
    },
    {
      "cell_type": "code",
      "source": [
        "# Every 3-gram embedded into 2 dimentions - so the size is 1x6 - will be in our model \n",
        "# multiplied by weigths matix of 6x100 and a bias will be added to each element.\n",
        "emb[data[[example[3]]]].view(-1, length*emb_dim) @ W1 + b1"
      ],
      "metadata": {
        "id": "_VB0sJeDdZqr",
        "colab": {
          "base_uri": "https://localhost:8080/"
        },
        "outputId": "86886bd7-9efc-4380-da12-8f468c7d01e7"
      },
      "execution_count": null,
      "outputs": [
        {
          "output_type": "execute_result",
          "data": {
            "text/plain": [
              "tensor([[ 1.4881,  3.8473, -0.0119,  9.2306,  3.9041, -0.1487,  1.6263, -3.8299,\n",
              "          3.6102,  0.1941,  3.5407,  2.7260,  2.1970,  1.3020,  0.6092,  0.7827,\n",
              "         -0.5906,  0.6666,  0.4678, -2.3617,  4.8591, -0.0197, -7.4429, -2.6018,\n",
              "          0.7172,  3.2309, -0.7379,  2.4612,  1.7530,  2.0906,  1.3643, -3.6151,\n",
              "         -0.7175, -0.1929, -1.1716,  0.4135, -0.7684,  2.3626,  2.8788,  3.5981,\n",
              "          2.1995, -2.5262,  0.3396, -2.4847, -3.5211, -2.4184, -1.9381,  7.0572,\n",
              "          2.5646, -2.8520, -1.7390,  1.3424,  2.5286,  0.3043,  0.5418,  0.0266,\n",
              "         -0.2760, -1.8059, -1.3788,  3.5581, -1.9506,  1.3210, -1.1592, -1.9944,\n",
              "         -0.9448, -2.4289,  3.1992,  3.2059, -5.5499,  0.5655,  1.2340,  1.0847,\n",
              "          0.3649,  4.8948,  1.9556, -5.8657,  2.1201, -0.9133,  0.5383, -0.9931,\n",
              "         -0.9490, -0.3868, -4.9691,  0.8360,  0.0500,  6.6749, -0.2155,  0.1442,\n",
              "          2.2331,  0.8402,  2.3271, -1.8695,  0.1813, -4.0767, -0.7146, -7.2722,\n",
              "         -4.0564,  2.8022,  3.1099, -1.2499]], grad_fn=<AddBackward0>)"
            ]
          },
          "metadata": {},
          "execution_count": 17
        }
      ]
    },
    {
      "cell_type": "code",
      "source": [
        "# The output layer will be transforming a signal from hideen size of h_size=100 \n",
        "# into size of 27 possible letters len(letters).\n",
        "W2 = torch.randn((h_size, len(letters)), requires_grad=True)\n",
        "b2 = torch.randn(len(letters), requires_grad=True)\n",
        "print(W2.shape)\n",
        "print(b2.shape)"
      ],
      "metadata": {
        "colab": {
          "base_uri": "https://localhost:8080/"
        },
        "id": "PI1vMEK1V7cC",
        "outputId": "1ec6a581-fe67-4d54-f086-f74cb2264818"
      },
      "execution_count": null,
      "outputs": [
        {
          "output_type": "stream",
          "name": "stdout",
          "text": [
            "torch.Size([100, 27])\n",
            "torch.Size([27])\n"
          ]
        }
      ]
    },
    {
      "cell_type": "code",
      "source": [
        "# Before we do a forward pass and then backpropagate, we need to collect all \n",
        "# learnable parameters, so that we can zero-grad and update them later on.\n",
        "parameters = [emb, W1, b1, W2, b2]  \n",
        "# Counting the number of model's parameters.\n",
        "print(f'The model has altogether {sum(param.nelement() for param in parameters)} learnable parameters')"
      ],
      "metadata": {
        "colab": {
          "base_uri": "https://localhost:8080/"
        },
        "id": "jVclZDoZVO9q",
        "outputId": "e2636e2d-0fb0-472c-cdb9-204faa3806d9"
      },
      "execution_count": null,
      "outputs": [
        {
          "output_type": "stream",
          "name": "stdout",
          "text": [
            "The model has altogether 3481 learnable parameters\n"
          ]
        }
      ]
    },
    {
      "cell_type": "code",
      "source": [
        "# OK, let's try to do a single forward-backwards pass.\n",
        "\n",
        "# First, we pick a random number for index of data that we are going to use in this pass.\n",
        "idx = torch.randint(0, len(data), (1,)).item()\n",
        "\n",
        "# We get data and label for the randomly chosen index (x and y).\n",
        "x = emb[data[idx]].view(-1, length*emb_dim)\n",
        "y = labels[idx].unsqueeze(0)  # to get 1-dim tensor that will be expected by cross_entropy instead of 0-dmin\n",
        "print(f'Index: {idx}. Label: {y.item()}. Data shape: {x.shape}. Label shape: {y.shape}')\n",
        "\n",
        "# We do a forward pass.\n",
        "hidden = torch.tanh(x @ W1 + b1)\n",
        "logits = hidden @ W2 + b2\n",
        "pred = torch.softmax(logits, dim=1)\n",
        "print(f'Logits:\\n{logits}')\n",
        "print(f'Prediction: {torch.argmax(pred).item()}. Should be {y.item()}')\n",
        "\n",
        "# The we use the CrossEntropy function to calculate a loss.\n",
        "from torch.nn.functional import cross_entropy\n",
        "loss = cross_entropy(logits, y)\n",
        "print(f'Loss: {loss.item()}')"
      ],
      "metadata": {
        "colab": {
          "base_uri": "https://localhost:8080/"
        },
        "id": "2MkknMsrUsTs",
        "outputId": "19867637-bb86-4114-d1e8-8a178d4e16f4"
      },
      "execution_count": null,
      "outputs": [
        {
          "output_type": "stream",
          "name": "stdout",
          "text": [
            "Index: 184696. Label: 9. Data shape: torch.Size([1, 6]). Label shape: torch.Size([1])\n",
            "Logits:\n",
            "tensor([[  6.8977,   4.5065,   9.8441,  -5.2872,  12.1559,   3.6251,  -0.5758,\n",
            "          -0.8921,  11.1050,  -3.4304,  -8.1241, -12.6601,   8.7615,   0.9100,\n",
            "          -2.2228,  -8.3410, -20.7316, -11.0152,  12.0085, -19.4439,   2.2679,\n",
            "           0.9950,  11.8976,  -9.6503, -10.7528,  -7.7249, -12.6596]],\n",
            "       grad_fn=<AddBackward0>)\n",
            "Prediction: 4. Should be 9\n",
            "Loss: 16.72532081604004\n"
          ]
        }
      ]
    },
    {
      "cell_type": "code",
      "source": [
        "# And now it's time for the backward pass.\n",
        "\n",
        "# First, we zero gradients.\n",
        "for param in parameters:\n",
        "  param.grad = None\n",
        "\n",
        "# Then we go backwards.\n",
        "loss.backward()  "
      ],
      "metadata": {
        "id": "u2Xw1WY7Av1Y"
      },
      "execution_count": null,
      "outputs": []
    },
    {
      "cell_type": "code",
      "source": [
        "# Let's see the gradients for our b1 biases.\n",
        "for param in parameters[2:3]: \n",
        "  print(param.grad)"
      ],
      "metadata": {
        "colab": {
          "base_uri": "https://localhost:8080/"
        },
        "id": "CRSPxn0fXR1L",
        "outputId": "69bf455c-f28a-4e89-efca-1560c40b1742"
      },
      "execution_count": null,
      "outputs": [
        {
          "output_type": "stream",
          "name": "stdout",
          "text": [
            "tensor([ 2.7315e-04,  3.2323e-01, -1.0227e-01, -1.5861e-03, -4.3172e-04,\n",
            "        -2.7308e-04, -8.2726e-03, -6.7851e-01,  4.1354e-02,  3.6165e-06,\n",
            "        -5.1492e-04,  1.4869e-04, -1.4341e-02,  1.0049e-01, -2.0725e-05,\n",
            "         5.4841e-01, -3.4981e-03,  1.5697e-01, -1.8576e-01,  4.2770e-02,\n",
            "        -2.0159e-04, -9.8106e-03, -1.1091e-01, -6.2708e-01, -4.5198e-02,\n",
            "        -1.1895e+00,  2.1187e-01,  5.8905e-01,  1.5224e-03,  4.8668e-02,\n",
            "        -2.4546e-03, -1.5316e-03,  2.9047e-04,  3.1712e-04,  4.4874e-02,\n",
            "        -9.3830e-03,  2.3832e-01, -2.5587e-02,  4.5306e-03,  4.5509e-02,\n",
            "         2.4533e-04, -4.2589e-02, -4.3642e-01, -4.0877e-01, -6.8858e-03,\n",
            "        -5.3409e-03,  3.2786e-02, -1.7206e-02,  1.6420e-04,  8.4218e-03,\n",
            "        -4.9038e-01, -2.1529e-03, -6.2331e-02, -1.3257e-02,  3.1162e-02,\n",
            "        -2.7716e-01, -1.2623e-02, -2.0678e+00,  2.3530e-03,  7.6653e-04,\n",
            "         1.8086e-01,  5.4529e-01, -2.1853e-01, -2.0314e+00,  5.3021e-03,\n",
            "        -9.3283e-03,  7.1348e-04,  3.1051e-05, -8.8898e-02,  8.4733e-01,\n",
            "        -9.1860e-02,  2.0144e+00,  2.3648e-01,  7.3584e-03, -6.3367e-01,\n",
            "        -2.0495e-03,  8.8015e-05,  9.8201e-04, -5.4698e-02,  3.8462e-02,\n",
            "        -3.3373e-04, -1.5262e-01,  6.9666e-02, -5.0024e-02, -1.7915e-01,\n",
            "        -1.1651e-03, -4.2530e-02,  4.1019e-03,  2.2142e-02, -6.8937e-02,\n",
            "        -4.6152e-02, -1.3979e-02,  5.6914e-01,  2.4701e-07,  5.9355e-04,\n",
            "         2.1110e-05, -1.6723e-03, -1.1896e-02,  1.0527e-01, -5.3559e-05])\n"
          ]
        }
      ]
    },
    {
      "cell_type": "code",
      "source": [
        "# Finally, we do parameters update using some learning rate.\n",
        "learning_rate = 0.3\n",
        "for param in parameters:\n",
        "  param.data += -learning_rate * param.grad"
      ],
      "metadata": {
        "id": "Jgb3J_0O95RO"
      },
      "execution_count": null,
      "outputs": []
    },
    {
      "cell_type": "code",
      "source": [
        "# And that's it - we did it!\n",
        "# What we may do right now, as a next step, is to enclose the above passes in a loop.\n",
        "# And also to train on a batch of data instead of a single datapoint.\n",
        "batch_size = 1000\n",
        "epochs = 50000\n",
        "learning_rate = 1"
      ],
      "metadata": {
        "id": "vgqpkyqvdZh2"
      },
      "execution_count": null,
      "outputs": []
    },
    {
      "cell_type": "code",
      "source": [
        "for epoch in range(1, epochs+1):\n",
        "  # Let's randomly choose a batch of random indexes from the training dataset. \n",
        "  # We need batch_size of indexes.\n",
        "  idx = torch.randint(0, len(data), (batch_size,))\n",
        "  \n",
        "  # We get the data and labels for the randomly chosen batch of indexes.\n",
        "  x = emb[data[idx]].view(-1, length*emb_dim)\n",
        "  y = labels[idx]\n",
        "\n",
        "  # We do a forward pass.\n",
        "  hidden = torch.tanh(x @ W1 + b1)\n",
        "  logits = hidden @ W2 + b2\n",
        "  loss = cross_entropy(logits, y)\n",
        " \n",
        "  # Some debugging.\n",
        "  if epoch % (epochs // 10) == 0:\n",
        "    print(f'Loss at epoch #{epoch}: {loss.item()}')\n",
        "\n",
        "  # We do a backward pass.\n",
        "  for param in parameters:\n",
        "    param.grad = None\n",
        "  loss.backward()\n",
        "  \n",
        "  # We do parameters update.\n",
        "  for param in parameters:\n",
        "    param.data += -learning_rate * param.grad\n",
        "\n",
        "  # To impove training, we add some learning rate decay.\n",
        "  # After 50% of epochs we divide learning rate by 10. \n",
        "  if epoch == epochs // 2:\n",
        "    learning_rate *= 0.1\n",
        "    print(f'\\n Changing learing rate to: {learning_rate}\\n')\n",
        "  # And we cut it further by half after 90% of epochs passed.\n",
        "  if epoch == (epochs // 10) * 9:\n",
        "    learning_rate *= 0.5\n",
        "    print(f'\\n Changing learing rate to: {learning_rate}\\n')"
      ],
      "metadata": {
        "colab": {
          "base_uri": "https://localhost:8080/"
        },
        "outputId": "1a306f5e-faea-40bf-94a3-84918429fe86",
        "id": "JcqIFvGXaQ_Z"
      },
      "execution_count": null,
      "outputs": [
        {
          "output_type": "stream",
          "name": "stdout",
          "text": [
            "Loss at epoch #5000: 2.3173444271087646\n",
            "Loss at epoch #10000: 2.368964433670044\n",
            "Loss at epoch #15000: 2.3065497875213623\n",
            "Loss at epoch #20000: 2.2650322914123535\n",
            "Loss at epoch #25000: 2.243694305419922\n",
            "\n",
            " Changing learing rate to: 0.1\n",
            "\n",
            "Loss at epoch #30000: 2.2050209045410156\n",
            "Loss at epoch #35000: 2.19743013381958\n",
            "Loss at epoch #40000: 2.1508591175079346\n",
            "Loss at epoch #45000: 2.248635768890381\n",
            "\n",
            " Changing learing rate to: 0.05\n",
            "\n",
            "Loss at epoch #50000: 2.2356796264648438\n"
          ]
        }
      ]
    },
    {
      "cell_type": "code",
      "source": [
        "# We should be able to get a desent loss at around 2.27 (with around 50 000 epochs)\n",
        "# Let's try to impove our model by:\n",
        "# a) increasing the size of embeddings from 2 to 4,\n",
        "# b) and creating a deeper net that will add some more flexibility to our model.\n",
        "# We will also split data into train, validation and test datasets and all of that in some more Pytorch way of doing the stuff."
      ],
      "metadata": {
        "id": "nM02tOC_UKUK"
      },
      "execution_count": null,
      "outputs": []
    },
    {
      "cell_type": "code",
      "source": [
        "# We still have our data and labels in variables 'data' and 'labels'. Let's double check this\n",
        "print(f'Data size: {data.shape}')\n",
        "print(f'Labels size: {labels.shape}')"
      ],
      "metadata": {
        "colab": {
          "base_uri": "https://localhost:8080/"
        },
        "id": "QwFhcTZi74Qu",
        "outputId": "28f5e1ca-39ad-4552-d3c0-f66ea96c4696"
      },
      "execution_count": null,
      "outputs": [
        {
          "output_type": "stream",
          "name": "stdout",
          "text": [
            "Data size: torch.Size([228146, 3])\n",
            "Labels size: torch.Size([228146])\n"
          ]
        }
      ]
    },
    {
      "cell_type": "code",
      "source": [
        "# Pytorch has a nice class TensorDataset to convert pair of data-labels \n",
        "# into the Dataset object that we may later on use with DataLoader\n",
        "from torch.utils.data import TensorDataset, Dataset, DataLoader\n",
        "\n",
        "dataset = TensorDataset(data, labels)\n",
        "print(f'Type of the <dataset> variable is {type(dataset)}')\n",
        "print(f'The length of the dataset is: {len(dataset)}')"
      ],
      "metadata": {
        "colab": {
          "base_uri": "https://localhost:8080/"
        },
        "id": "wKOGm4n59yAs",
        "outputId": "40c70b08-9ff1-4e34-bb1b-bcc8cec6c0c0"
      },
      "execution_count": null,
      "outputs": [
        {
          "output_type": "stream",
          "name": "stdout",
          "text": [
            "Type of the <dataset> variable is <class 'torch.utils.data.dataset.TensorDataset'>\n",
            "The length of the dataset is: 228146\n"
          ]
        }
      ]
    },
    {
      "cell_type": "code",
      "source": [
        "# Let's split data into training (80%), validation (10%) and test(10%) datasets.\n",
        "# Pytorch has useful helper function to achieve this - random_split.\n",
        "# Unfortunately, at the time of writing this notebook, Google Colab uses torch 1.12\n",
        "# and in 1.12 random_split does not accept splits as percentage of original dataset.\n",
        "torch.__version__"
      ],
      "metadata": {
        "colab": {
          "base_uri": "https://localhost:8080/",
          "height": 35
        },
        "id": "zgCc9TR4VaQA",
        "outputId": "d64dbe01-fb08-48fb-8c05-e6bc3c02683d"
      },
      "execution_count": null,
      "outputs": [
        {
          "output_type": "execute_result",
          "data": {
            "text/plain": [
              "'1.12.1+cu113'"
            ],
            "application/vnd.google.colaboratory.intrinsic+json": {
              "type": "string"
            }
          },
          "metadata": {},
          "execution_count": 29
        }
      ]
    },
    {
      "cell_type": "code",
      "source": [
        "# We may however copy-paste the code from 1.13 from here: https://pytorch.org/docs/1.12/_modules/torch/utils/data/dataset.html#random_split.\n",
        "import math\n",
        "from torch import default_generator, randperm\n",
        "from torch._utils import _accumulate\n",
        "from torch.utils.data.dataset import Subset\n",
        "\n",
        "def random_split(dataset, lengths,\n",
        "                 generator=default_generator):\n",
        "    r\"\"\"\n",
        "    Randomly split a dataset into non-overlapping new datasets of given lengths.\n",
        "\n",
        "    If a list of fractions that sum up to 1 is given,\n",
        "    the lengths will be computed automatically as\n",
        "    floor(frac * len(dataset)) for each fraction provided.\n",
        "\n",
        "    After computing the lengths, if there are any remainders, 1 count will be\n",
        "    distributed in round-robin fashion to the lengths\n",
        "    until there are no remainders left.\n",
        "\n",
        "    Optionally fix the generator for reproducible results, e.g.:\n",
        "\n",
        "    >>> random_split(range(10), [3, 7], generator=torch.Generator().manual_seed(42))\n",
        "    >>> random_split(range(30), [0.3, 0.3, 0.4], generator=torch.Generator(\n",
        "    ...   ).manual_seed(42))\n",
        "\n",
        "    Args:\n",
        "        dataset (Dataset): Dataset to be split\n",
        "        lengths (sequence): lengths or fractions of splits to be produced\n",
        "        generator (Generator): Generator used for the random permutation.\n",
        "    \"\"\"\n",
        "    if math.isclose(sum(lengths), 1) and sum(lengths) <= 1:\n",
        "        subset_lengths: List[int] = []\n",
        "        for i, frac in enumerate(lengths):\n",
        "            if frac < 0 or frac > 1:\n",
        "                raise ValueError(f\"Fraction at index {i} is not between 0 and 1\")\n",
        "            n_items_in_split = int(\n",
        "                math.floor(len(dataset) * frac)  # type: ignore[arg-type]\n",
        "            )\n",
        "            subset_lengths.append(n_items_in_split)\n",
        "        remainder = len(dataset) - sum(subset_lengths)  # type: ignore[arg-type]\n",
        "        # add 1 to all the lengths in round-robin fashion until the remainder is 0\n",
        "        for i in range(remainder):\n",
        "            idx_to_add_at = i % len(subset_lengths)\n",
        "            subset_lengths[idx_to_add_at] += 1\n",
        "        lengths = subset_lengths\n",
        "        for i, length in enumerate(lengths):\n",
        "            if length == 0:\n",
        "                warnings.warn(f\"Length of split at index {i} is 0. \"\n",
        "                              f\"This might result in an empty dataset.\")\n",
        "\n",
        "    # Cannot verify that dataset is Sized\n",
        "    if sum(lengths) != len(dataset):    # type: ignore[arg-type]\n",
        "        raise ValueError(\"Sum of input lengths does not equal the length of the input dataset!\")\n",
        "\n",
        "    indices = randperm(sum(lengths), generator=generator).tolist()  # type: ignore[call-overload]\n",
        "    return [Subset(dataset, indices[offset - length : offset]) for offset, length in zip(_accumulate(lengths), lengths)]"
      ],
      "metadata": {
        "id": "PHu014g2VLv_"
      },
      "execution_count": null,
      "outputs": []
    },
    {
      "cell_type": "code",
      "source": [
        "train_dataset, val_dataset, test_dataset = random_split(dataset, [0.8, 0.1, 0.1])\n",
        "print(f'The lengths of train, validation and test datasets are respectively: {len(train_dataset)}, {len(val_dataset)} and {len(test_dataset)}')"
      ],
      "metadata": {
        "colab": {
          "base_uri": "https://localhost:8080/"
        },
        "id": "aaShHd3Q9x6t",
        "outputId": "867536e6-ed76-4058-d5f9-8b151249159e"
      },
      "execution_count": null,
      "outputs": [
        {
          "output_type": "stream",
          "name": "stdout",
          "text": [
            "The lengths of train, validation and test datasets are respectively: 182517, 22815 and 22814\n"
          ]
        }
      ]
    },
    {
      "cell_type": "code",
      "source": [
        "# Let's redefine batch size\n",
        "batch_size = 1024"
      ],
      "metadata": {
        "id": "7KfftvKvaXyj"
      },
      "execution_count": null,
      "outputs": []
    },
    {
      "cell_type": "code",
      "source": [
        "# Having datasets ready we may wrap them using DataLoader class.\n",
        "train_dl = DataLoader(train_dataset, batch_size=batch_size, shuffle=True, drop_last=True)\n",
        "val_dl = DataLoader(train_dataset, batch_size=batch_size, shuffle=False, drop_last=True)\n",
        "test_dl = DataLoader(train_dataset, batch_size=batch_size, shuffle=False, drop_last=True)"
      ],
      "metadata": {
        "id": "Z-ib_zDG9xzN"
      },
      "execution_count": null,
      "outputs": []
    },
    {
      "cell_type": "code",
      "source": [
        "# Let's try our data loader\n",
        "for i, (x, y) in enumerate(train_dl):\n",
        "  print(x.shape, y.shape)\n",
        "  print(x)\n",
        "  print(y)\n",
        "  if i == 2:\n",
        "    break"
      ],
      "metadata": {
        "colab": {
          "base_uri": "https://localhost:8080/"
        },
        "id": "zAltjLG39xrE",
        "outputId": "816e1995-445f-49e9-a713-106289695e10"
      },
      "execution_count": null,
      "outputs": [
        {
          "output_type": "stream",
          "name": "stdout",
          "text": [
            "torch.Size([1024, 3]) torch.Size([1024])\n",
            "tensor([[11,  5, 14],\n",
            "        [ 0, 10,  9],\n",
            "        [ 0,  0, 11],\n",
            "        ...,\n",
            "        [ 5, 12,  5],\n",
            "        [25, 26,  1],\n",
            "        [12,  9, 22]])\n",
            "tensor([26,  1,  1,  ...,  1,  0,  5])\n",
            "torch.Size([1024, 3]) torch.Size([1024])\n",
            "tensor([[ 0,  0,  5],\n",
            "        [ 1, 25, 12],\n",
            "        [ 0,  1, 14],\n",
            "        ...,\n",
            "        [ 0,  0, 13],\n",
            "        [ 0, 21, 12],\n",
            "        [ 0, 25,  1]])\n",
            "tensor([13,  5, 18,  ..., 25, 25, 14])\n",
            "torch.Size([1024, 3]) torch.Size([1024])\n",
            "tensor([[ 0, 22,  1],\n",
            "        [ 9, 12, 25],\n",
            "        [ 0,  0,  0],\n",
            "        ...,\n",
            "        [15,  6,  9],\n",
            "        [10, 23,  1],\n",
            "        [ 0,  0,  0]])\n",
            "tensor([12, 14,  5,  ...,  1,  0, 12])\n"
          ]
        }
      ]
    },
    {
      "cell_type": "code",
      "source": [
        "# At this point we're ready to build a new model with increased \n",
        "# dimentionality of embeddings and with a deeper model.\n",
        "import torch.nn as nn\n",
        "from torch.nn import Linear, Tanh\n",
        "\n",
        "class MLP(nn.Module):\n",
        "  def __init__(self, letters_len, n_gram_len, emb_dim, h1_size, h2_size):\n",
        "    super().__init__()\n",
        "    self.n_gram_len = n_gram_len\n",
        "    self.emb_dim = emb_dim\n",
        "    self.emb = torch.randn(letters_len, emb_dim)  # dictionary size by embedding dimentionality\n",
        "    self.fc1 = Linear(n_gram_len*emb_dim, h1_size)  # n-gram size times embedding dimentionality by size of hidden 1 \n",
        "    self.fc2 = Linear(h1_size, h2_size)  # size of hidden 1 by size of hidden 2\n",
        "    self.fc3 = Linear(h2_size, letters_len)\n",
        "    self.Tanh = Tanh()\n",
        "  \n",
        "  def forward(self, x):\n",
        "    # We need to embed and reshape our input tensor first. \n",
        "    # Quick note on why use .long() here. Theoretically model should work perfectly well with .emb[x].\n",
        "    # The reason for this is that we have only integer values in the dataset.\n",
        "    # However, if we want to use torchsummary to print model details, it will feed the model with float values.\n",
        "    x = self.emb[x.long()].view(-1, self.n_gram_len*self.emb_dim)  \n",
        "    hidden1 = self.Tanh(self.fc1(x))\n",
        "    hidden2 = self.Tanh(self.fc2(hidden1))\n",
        "    logits = self.fc3(hidden2)\n",
        "    return logits"
      ],
      "metadata": {
        "id": "eQksLkwpJ1kM"
      },
      "execution_count": null,
      "outputs": []
    },
    {
      "cell_type": "code",
      "source": [
        "dict_len = len(letters)  # dictionary size (should be 27)\n",
        "n_gram_len = 3  # what's the size of n-gram (3 or more)\n",
        "emb_dim = 4  # what's the dimentionality of embedding table (in previous ex. it was 2, we want increase that)\n",
        "h1_size = 100  # hidden layer 1 size\n",
        "h2_size = 50  # hidden layer 2 size\n",
        "model = MLP(dict_len, n_gram_len, emb_dim, h1_size, h2_size)"
      ],
      "metadata": {
        "id": "W6klTlPledBZ"
      },
      "execution_count": null,
      "outputs": []
    },
    {
      "cell_type": "code",
      "source": [
        "# We may print model structure with print method ...\n",
        "print(model)"
      ],
      "metadata": {
        "colab": {
          "base_uri": "https://localhost:8080/"
        },
        "id": "tvEx2KyhW3q-",
        "outputId": "04f85b50-1653-470e-dc10-186b8d7bd878"
      },
      "execution_count": null,
      "outputs": [
        {
          "output_type": "stream",
          "name": "stdout",
          "text": [
            "MLP(\n",
            "  (fc1): Linear(in_features=12, out_features=100, bias=True)\n",
            "  (fc2): Linear(in_features=100, out_features=50, bias=True)\n",
            "  (fc3): Linear(in_features=50, out_features=27, bias=True)\n",
            "  (Tanh): Tanh()\n",
            ")\n"
          ]
        }
      ]
    },
    {
      "cell_type": "code",
      "source": [
        "# ... however I prefer using torch-summary where possible: https://github.com/sksq96/pytorch-summary\n",
        "from torchsummary import summary\n",
        "summary(model, (n_gram_len, emb_dim))"
      ],
      "metadata": {
        "colab": {
          "base_uri": "https://localhost:8080/"
        },
        "id": "neoT0Ps_V2jT",
        "outputId": "969ef4a4-5883-4312-c397-32effab98c42"
      },
      "execution_count": null,
      "outputs": [
        {
          "output_type": "stream",
          "name": "stdout",
          "text": [
            "----------------------------------------------------------------\n",
            "        Layer (type)               Output Shape         Param #\n",
            "================================================================\n",
            "            Linear-1                  [-1, 100]           1,300\n",
            "              Tanh-2                  [-1, 100]               0\n",
            "            Linear-3                   [-1, 50]           5,050\n",
            "              Tanh-4                   [-1, 50]               0\n",
            "            Linear-5                   [-1, 27]           1,377\n",
            "================================================================\n",
            "Total params: 7,727\n",
            "Trainable params: 7,727\n",
            "Non-trainable params: 0\n",
            "----------------------------------------------------------------\n",
            "Input size (MB): 0.00\n",
            "Forward/backward pass size (MB): 0.00\n",
            "Params size (MB): 0.03\n",
            "Estimated Total Size (MB): 0.03\n",
            "----------------------------------------------------------------\n"
          ]
        }
      ]
    },
    {
      "cell_type": "code",
      "source": [
        "from torch.optim import SGD\n",
        "from torch.optim.lr_scheduler import MultiStepLR\n",
        "\n",
        "# here we define some hyperparameters.\n",
        "epochs = 600\n",
        "learning_rate = 0.5  # this is initial learning rate - we are going to use scheduler to decrease LR\n",
        "criterion = torch.nn.CrossEntropyLoss()  \n",
        "optimizer = SGD(model.parameters(), lr=learning_rate)\n",
        "\n",
        "# we use scheduler that multiplies LR by gamma every epoch given in milestones\n",
        "scheduler = MultiStepLR(optimizer, milestones=[200,300,400,500], gamma=0.2)\n",
        "\n",
        "# Note that the batch size is already defined in the DataLoaders.\n",
        "print(f'The batch size is {batch_size}')"
      ],
      "metadata": {
        "id": "pv5QR2JtVjrs",
        "colab": {
          "base_uri": "https://localhost:8080/"
        },
        "outputId": "0199fc20-8f49-4e82-abb0-105ea7850a4a"
      },
      "execution_count": null,
      "outputs": [
        {
          "output_type": "stream",
          "name": "stdout",
          "text": [
            "The batch size is 1024\n"
          ]
        }
      ]
    },
    {
      "cell_type": "code",
      "source": [
        "# Before we start the training, let's define a helper function that accepts\n",
        "# data_loader and model and collects (in a form of list) accuracies \n",
        "# for each batch of a data loader. We may then use this function to calculate\n",
        "# accuracy for validation and training datasets to check if there is any overfitting\n",
        "def evaluate(data_loader, model):\n",
        "  accuracy = []\n",
        "  for x, y in data_loader:\n",
        "    preds = model(x)  # logits\n",
        "    predictions = torch.argmax(preds, dim=1).detach().cpu().numpy()  # predictions\n",
        "    batch_accuracy = (predictions==y.detach().cpu().numpy()).sum() / len(y)  # compare predictions with ground truth and calculating accuracy for a batch\n",
        "    accuracy.append(batch_accuracy)\n",
        "  return accuracy"
      ],
      "metadata": {
        "id": "Ghro9-GAqe8j"
      },
      "execution_count": null,
      "outputs": []
    },
    {
      "cell_type": "code",
      "source": [
        "# Main training loop\n",
        "tr_losses = []\n",
        "val_accuracies = []\n",
        "tr_accuracies = []\n",
        "\n",
        "start = timer()\n",
        "for epoch in range(1, epochs+1):\n",
        "  for x, y in train_dl:\n",
        "    # forward pass\n",
        "    y_hat = model(x)\n",
        "\n",
        "    # backward pass\n",
        "    loss = criterion(y_hat, y)\n",
        "    loss.backward()\n",
        "\n",
        "    # parameters update\n",
        "    optimizer.step()\n",
        "    optimizer.zero_grad()\n",
        "  \n",
        "  model.eval()\n",
        "  with torch.no_grad():\n",
        "    # train accuracy calculated every 10 epochs\n",
        "    if epoch % 10 == 0:\n",
        "      tr_accuracy = evaluate(train_dl, model) \n",
        "      tr_accuracies.append(np.array(tr_accuracy).sum() / len(tr_accuracy))\n",
        "\n",
        "    # validation accuracy calculated in every epoch\n",
        "    val_accuracy = evaluate(val_dl, model)\n",
        "    val_accuracies.append(np.array(val_accuracy).sum() / len(val_accuracy))\n",
        "  model.train()\n",
        "  \n",
        "  # learning rate decay\n",
        "  scheduler.step()\n",
        "  \n",
        "  # record losses\n",
        "  tr_losses.append(loss.detach().numpy().mean())\n",
        "\n",
        "end = timer()\n",
        "print(f'Learning time {end-start:0.2f}s. Last training loss: {tr_losses[-1]}')"
      ],
      "metadata": {
        "colab": {
          "base_uri": "https://localhost:8080/"
        },
        "id": "s0MDAald9fD6",
        "outputId": "4b8665bd-b9d3-4155-f299-5e958bd973af"
      },
      "execution_count": null,
      "outputs": [
        {
          "output_type": "stream",
          "name": "stdout",
          "text": [
            "Learning time 2989.88s. Last training loss: 2.1225686073303223\n"
          ]
        }
      ]
    },
    {
      "cell_type": "code",
      "source": [
        "# Print loss the validation accuracy, then training accuracy (this one collected every 10 epoch only)\n",
        "import matplotlib.pyplot as plt\n",
        "plt.plot(tr_losses)"
      ],
      "metadata": {
        "id": "H0uUymtpec7n",
        "colab": {
          "base_uri": "https://localhost:8080/",
          "height": 282
        },
        "outputId": "5638dd93-a817-4b68-fbd9-007d189f6288"
      },
      "execution_count": null,
      "outputs": [
        {
          "output_type": "execute_result",
          "data": {
            "text/plain": [
              "[<matplotlib.lines.Line2D at 0x7ff63587f610>]"
            ]
          },
          "metadata": {},
          "execution_count": 42
        },
        {
          "output_type": "display_data",
          "data": {
            "text/plain": [
              "<Figure size 432x288 with 1 Axes>"
            ],
            "image/png": "[encoded data removed]"
          },
          "metadata": {
            "needs_background": "light"
          }
        }
      ]
    },
    {
      "cell_type": "code",
      "source": [
        "plt.plot(val_accuracies)"
      ],
      "metadata": {
        "id": "P6O_7yKiec4E",
        "colab": {
          "base_uri": "https://localhost:8080/",
          "height": 282
        },
        "outputId": "b4acdb5b-b3ee-4925-a737-7d82bad08ae8"
      },
      "execution_count": null,
      "outputs": [
        {
          "output_type": "execute_result",
          "data": {
            "text/plain": [
              "[<matplotlib.lines.Line2D at 0x7ff63549bd10>]"
            ]
          },
          "metadata": {},
          "execution_count": 43
        },
        {
          "output_type": "display_data",
          "data": {
            "text/plain": [
              "<Figure size 432x288 with 1 Axes>"
            ],
            "image/png": "[encoded data removed]"
          },
          "metadata": {
            "needs_background": "light"
          }
        }
      ]
    },
    {
      "cell_type": "code",
      "source": [
        "plt.plot(tr_accuracies)"
      ],
      "metadata": {
        "id": "bRwUnXvIJ1ha",
        "colab": {
          "base_uri": "https://localhost:8080/",
          "height": 282
        },
        "outputId": "b887ead6-5615-419a-a39a-ed35603b5683"
      },
      "execution_count": null,
      "outputs": [
        {
          "output_type": "execute_result",
          "data": {
            "text/plain": [
              "[<matplotlib.lines.Line2D at 0x7ff635384bd0>]"
            ]
          },
          "metadata": {},
          "execution_count": 44
        },
        {
          "output_type": "display_data",
          "data": {
            "text/plain": [
              "<Figure size 432x288 with 1 Axes>"
            ],
            "image/png": "[encoded data removed]"
          },
          "metadata": {
            "needs_background": "light"
          }
        }
      ]
    },
    {
      "cell_type": "code",
      "source": [
        "# We're ready to use our trained model to generate names.\n",
        "for _ in range(15): \n",
        "  prev_gram = torch.tensor([char2idx['.']]*3)  # we start with the initial n-gram of 3 starting characters\n",
        "  pred_word = []  # this will be our predicted word\n",
        "  while True:  # we run this loop until we get the ending '.' character\n",
        "    # we get predicted logits\n",
        "    output = model(prev_gram)  \n",
        "\n",
        "    # we want to turn logits into probability distribution using softmax.\n",
        "    prob_dist = torch.softmax(output, dim=1) \n",
        "\n",
        "    # and then draw from this distribution using multinomial probability distribution\n",
        "    prediction = torch.multinomial(prob_dist, num_samples=1, replacement=True).squeeze(1)  # note: we need to squeeze as multinomial outputs extra dimention\n",
        "    \n",
        "    # calculate predicted character\n",
        "    predicted_ch = idx2char[prediction.item()]  \n",
        "    if predicted_ch == '.':  # if we get the ending character -> we have just predicted a whole word -> break while loop\n",
        "      break\n",
        "    \n",
        "    pred_word.append(predicted_ch)  # add character to the word\n",
        "    \n",
        "    # we need to shift our 3-gram to the left and add newly predicted character to repeat loop\n",
        "    prev_gram = torch.roll(prev_gram, -1)\n",
        "    prev_gram[2] = prediction\n",
        "\n",
        "  print(''.join(pred_word))"
      ],
      "metadata": {
        "id": "j3FXjrABHClN",
        "colab": {
          "base_uri": "https://localhost:8080/"
        },
        "outputId": "9f57f525-09c6-44e7-a618-d78bdb73997e"
      },
      "execution_count": null,
      "outputs": [
        {
          "output_type": "stream",
          "name": "stdout",
          "text": [
            "mailynoriann\n",
            "eman\n",
            "kumab\n",
            "kammariyah\n",
            "ewslett\n",
            "aranfrean\n",
            "alderret\n",
            "kadalaya\n",
            "joshir\n",
            "yaballoheidy\n",
            "cayziah\n",
            "jon\n",
            "jana\n",
            "mona\n",
            "tya\n"
          ]
        }
      ]
    },
    {
      "cell_type": "code",
      "source": [],
      "metadata": {
        "id": "49M5SH1biRDt"
      },
      "execution_count": null,
      "outputs": []
    }
  ]
}