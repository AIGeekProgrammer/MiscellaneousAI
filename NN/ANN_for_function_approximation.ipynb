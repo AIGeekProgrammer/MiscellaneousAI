{
  "nbformat": 4,
  "nbformat_minor": 0,
  "metadata": {
    "colab": {
      "name": "ANN for function approximation.ipynb",
      "provenance": [],
      "collapsed_sections": [],
      "authorship_tag": "ABX9TyOrtO41GzQB6UlnJhM0Hj8U",
      "include_colab_link": true
    },
    "kernelspec": {
      "name": "python3",
      "display_name": "Python 3"
    },
    "language_info": {
      "name": "python"
    },
    "accelerator": "GPU"
  },
  "cells": [
    {
      "cell_type": "markdown",
      "metadata": {
        "id": "view-in-github",
        "colab_type": "text"
      },
      "source": [
        "<a href=\"https://colab.research.google.com/github/AIGeekProgrammer/MiscellaneousAI/blob/main/NN/ANN_for_function_approximation.ipynb\" target=\"_parent\"><img src=\"https://colab.research.google.com/assets/colab-badge.svg\" alt=\"Open In Colab\"/></a>"
      ]
    },
    {
      "cell_type": "markdown",
      "source": [
        "Notebook:<br>\n",
        "ANN to approximate f(x) = x^2 + 2x + 1 function<br>\n",
        "Author: Szymon Manduk<br>\n",
        "Created: 18 Apr 2022<br>"
      ],
      "metadata": {
        "id": "98g3NpH-pXnY"
      }
    },
    {
      "cell_type": "code",
      "source": [
        "import torch\n",
        "\n",
        "import torch.nn as nn\n",
        "import torch.nn.functional as F\n",
        "\n",
        "from timeit import default_timer as timer\n",
        "\n",
        "import matplotlib.pyplot as plt"
      ],
      "metadata": {
        "id": "6_Zbx7NBTiSN"
      },
      "execution_count": null,
      "outputs": []
    },
    {
      "cell_type": "code",
      "source": [
        "device = torch.device('cuda' if torch.cuda.is_available() else 'cpu')"
      ],
      "metadata": {
        "id": "0Nwhb9ji7rhm"
      },
      "execution_count": null,
      "outputs": []
    },
    {
      "cell_type": "code",
      "source": [
        "X = torch.rand((200,2))\n",
        "Y = torch.pow(X[:,0], 2) + 2 * X[:,1] + 1"
      ],
      "metadata": {
        "id": "clECIbRw7SEY"
      },
      "execution_count": null,
      "outputs": []
    },
    {
      "cell_type": "code",
      "source": [
        "X = X.to(device)\n",
        "Y = Y.to(device)"
      ],
      "metadata": {
        "id": "HKbOqjU48JNz"
      },
      "execution_count": null,
      "outputs": []
    },
    {
      "cell_type": "code",
      "source": [
        "X[0:5]"
      ],
      "metadata": {
        "colab": {
          "base_uri": "https://localhost:8080/"
        },
        "id": "sZwv23jPB0f6",
        "outputId": "0c92c345-c524-4ba1-e29c-b52bcfa39a9d"
      },
      "execution_count": null,
      "outputs": [
        {
          "output_type": "execute_result",
          "data": {
            "text/plain": [
              "tensor([[0.2482, 0.7838],\n",
              "        [0.6875, 0.2844],\n",
              "        [0.6651, 0.2835],\n",
              "        [0.8287, 0.9860],\n",
              "        [0.1391, 0.7381]], device='cuda:0')"
            ]
          },
          "metadata": {},
          "execution_count": 5
        }
      ]
    },
    {
      "cell_type": "code",
      "source": [
        "Y[0:5]"
      ],
      "metadata": {
        "colab": {
          "base_uri": "https://localhost:8080/"
        },
        "id": "w_6kmvf-B3qD",
        "outputId": "ce296044-bf62-4270-e8b4-9d019675eae5"
      },
      "execution_count": null,
      "outputs": [
        {
          "output_type": "execute_result",
          "data": {
            "text/plain": [
              "tensor([2.6292, 2.0415, 2.0095, 3.6587, 2.4956], device='cuda:0')"
            ]
          },
          "metadata": {},
          "execution_count": 6
        }
      ]
    },
    {
      "cell_type": "code",
      "source": [
        "print(X[0:3,0], X[0:3,1], Y[0:3], Y.dtype)"
      ],
      "metadata": {
        "colab": {
          "base_uri": "https://localhost:8080/"
        },
        "id": "0aBAXQar8RwR",
        "outputId": "c1614a18-c840-46a6-dbc4-921eca18f8d9"
      },
      "execution_count": null,
      "outputs": [
        {
          "output_type": "stream",
          "name": "stdout",
          "text": [
            "tensor([0.2482, 0.6875, 0.6651], device='cuda:0') tensor([0.7838, 0.2844, 0.2835], device='cuda:0') tensor([2.6292, 2.0415, 2.0095], device='cuda:0') torch.float32\n"
          ]
        }
      ]
    },
    {
      "cell_type": "code",
      "source": [
        "class MyClass(nn.Module):\n",
        "  def __init__(self):\n",
        "    super().__init__()\n",
        "    self.input = nn.Linear(2, 8)\n",
        "    self.output = nn.Linear(8, 1)\n",
        "  \n",
        "  def forward(self, x):\n",
        "    x = self.input(x)\n",
        "    x = F.relu(x)\n",
        "    x = self.output(x)\n",
        "    return x"
      ],
      "metadata": {
        "id": "bEZFOFRL6gZE"
      },
      "execution_count": null,
      "outputs": []
    },
    {
      "cell_type": "code",
      "source": [
        "model = MyClass().to(device)"
      ],
      "metadata": {
        "id": "EFuDWDtz82RK"
      },
      "execution_count": null,
      "outputs": []
    },
    {
      "cell_type": "code",
      "source": [
        "for param in model.parameters():\n",
        "  print(param)"
      ],
      "metadata": {
        "colab": {
          "base_uri": "https://localhost:8080/"
        },
        "id": "csHpQy-7_KY1",
        "outputId": "52e79100-382f-42f6-b338-1c1cbabae696"
      },
      "execution_count": null,
      "outputs": [
        {
          "output_type": "stream",
          "name": "stdout",
          "text": [
            "Parameter containing:\n",
            "tensor([[-0.4389,  0.2414],\n",
            "        [-0.1706, -0.1896],\n",
            "        [ 0.2025,  0.6522],\n",
            "        [-0.4871, -0.0073],\n",
            "        [-0.1810, -0.4513],\n",
            "        [-0.3993, -0.1079],\n",
            "        [ 0.6319, -0.1478],\n",
            "        [-0.3966,  0.4285]], device='cuda:0', requires_grad=True)\n",
            "Parameter containing:\n",
            "tensor([-0.6948, -0.3254,  0.6021, -0.0814,  0.0998, -0.4689, -0.1873, -0.4438],\n",
            "       device='cuda:0', requires_grad=True)\n",
            "Parameter containing:\n",
            "tensor([[-0.2762,  0.0123,  0.3434, -0.3112, -0.2451, -0.1171,  0.3008, -0.2264]],\n",
            "       device='cuda:0', requires_grad=True)\n",
            "Parameter containing:\n",
            "tensor([-0.0758], device='cuda:0', requires_grad=True)\n"
          ]
        }
      ]
    },
    {
      "cell_type": "code",
      "source": [
        "model.input.weight"
      ],
      "metadata": {
        "colab": {
          "base_uri": "https://localhost:8080/"
        },
        "id": "0Nagky2o_M4-",
        "outputId": "7a335c6d-cb84-4d9f-ee82-d7c7d77c57dc"
      },
      "execution_count": null,
      "outputs": [
        {
          "output_type": "execute_result",
          "data": {
            "text/plain": [
              "Parameter containing:\n",
              "tensor([[-0.4389,  0.2414],\n",
              "        [-0.1706, -0.1896],\n",
              "        [ 0.2025,  0.6522],\n",
              "        [-0.4871, -0.0073],\n",
              "        [-0.1810, -0.4513],\n",
              "        [-0.3993, -0.1079],\n",
              "        [ 0.6319, -0.1478],\n",
              "        [-0.3966,  0.4285]], device='cuda:0', requires_grad=True)"
            ]
          },
          "metadata": {},
          "execution_count": 11
        }
      ]
    },
    {
      "cell_type": "code",
      "source": [
        "model.input.bias"
      ],
      "metadata": {
        "colab": {
          "base_uri": "https://localhost:8080/"
        },
        "id": "Kze0pnXI_bTV",
        "outputId": "b022a032-bb46-47fe-8c53-a8cf0b76cf56"
      },
      "execution_count": null,
      "outputs": [
        {
          "output_type": "execute_result",
          "data": {
            "text/plain": [
              "Parameter containing:\n",
              "tensor([-0.6948, -0.3254,  0.6021, -0.0814,  0.0998, -0.4689, -0.1873, -0.4438],\n",
              "       device='cuda:0', requires_grad=True)"
            ]
          },
          "metadata": {},
          "execution_count": 12
        }
      ]
    },
    {
      "cell_type": "code",
      "source": [
        "# loss, optim, training loop\n",
        "criterion = nn.MSELoss()\n",
        "optim = torch.optim.SGD(model.parameters(), lr=0.001)\n",
        "epochs = 25000"
      ],
      "metadata": {
        "id": "EeYJrwF0_dv8"
      },
      "execution_count": null,
      "outputs": []
    },
    {
      "cell_type": "code",
      "source": [
        "start = timer()\n",
        "losses = []\n",
        "for epoch in range(epochs):\n",
        "  optim.zero_grad()\n",
        "  y_hat = model.forward(X)\n",
        "  loss = criterion(y_hat, Y.unsqueeze(1))\n",
        "  loss.backward()\n",
        "  optim.step()\n",
        "  losses.append(loss.detach().cpu().numpy())\n",
        "end = timer()"
      ],
      "metadata": {
        "id": "39OGEstB_8NQ"
      },
      "execution_count": null,
      "outputs": []
    },
    {
      "cell_type": "code",
      "source": [
        "print(f'Final loss after {epochs} epochs: {loss:.4f}. Training time on {device}: {end-start:.2f} seconds.')"
      ],
      "metadata": {
        "colab": {
          "base_uri": "https://localhost:8080/"
        },
        "id": "cPn3NjmieARJ",
        "outputId": "f7c7374b-bb97-4462-ef12-8d51fb78502a"
      },
      "execution_count": null,
      "outputs": [
        {
          "output_type": "stream",
          "name": "stdout",
          "text": [
            "Final loss after 25000 epochs: 0.0023. Training time on cuda: 30.58 seconds.\n"
          ]
        }
      ]
    },
    {
      "cell_type": "code",
      "source": [
        "plt.plot(losses)"
      ],
      "metadata": {
        "colab": {
          "base_uri": "https://localhost:8080/",
          "height": 283
        },
        "id": "dIG7hxs4d_9_",
        "outputId": "3c1042aa-124d-44a6-a484-c5085cfd7b19"
      },
      "execution_count": null,
      "outputs": [
        {
          "output_type": "execute_result",
          "data": {
            "text/plain": [
              "[<matplotlib.lines.Line2D at 0x7f95db816a90>]"
            ]
          },
          "metadata": {},
          "execution_count": 16
        },
        {
          "output_type": "display_data",
          "data": {
            "text/plain": [
              "<Figure size 432x288 with 1 Axes>"
            ],
            "image/png": "[encoded data removed]"
          },
          "metadata": {
            "needs_background": "light"
          }
        }
      ]
    },
    {
      "cell_type": "code",
      "source": [
        "x_test = torch.tensor([0.2, 0.3]).to(device)"
      ],
      "metadata": {
        "id": "EnrfEBA6Ap4C"
      },
      "execution_count": null,
      "outputs": []
    },
    {
      "cell_type": "code",
      "source": [
        "x_test"
      ],
      "metadata": {
        "colab": {
          "base_uri": "https://localhost:8080/"
        },
        "id": "TWWYlp4Wcypf",
        "outputId": "f10909cf-7189-4b2e-cb6f-64aea16cc58b"
      },
      "execution_count": null,
      "outputs": [
        {
          "output_type": "execute_result",
          "data": {
            "text/plain": [
              "tensor([0.2000, 0.3000], device='cuda:0')"
            ]
          },
          "metadata": {},
          "execution_count": 18
        }
      ]
    },
    {
      "cell_type": "code",
      "source": [
        "actual = torch.pow(x_test[0], 2) + 2 * x_test[1] + 1\n",
        "print(f'Correct result: {actual:.4f}')"
      ],
      "metadata": {
        "colab": {
          "base_uri": "https://localhost:8080/"
        },
        "id": "jzrQi9WwgfG0",
        "outputId": "c84a9f24-6df5-49ce-bcf8-2c9a485d6589"
      },
      "execution_count": null,
      "outputs": [
        {
          "output_type": "stream",
          "name": "stdout",
          "text": [
            "Correct result: 1.6400\n"
          ]
        }
      ]
    },
    {
      "cell_type": "code",
      "source": [
        "prediction = model.forward(x_test)"
      ],
      "metadata": {
        "id": "_cuo-29Sczhn"
      },
      "execution_count": null,
      "outputs": []
    },
    {
      "cell_type": "code",
      "source": [
        "print(f'Predicted value: {prediction.item():.4f}. Difference: {(abs(actual.item() - prediction.item()) / actual.item())*100:.2f}%')"
      ],
      "metadata": {
        "colab": {
          "base_uri": "https://localhost:8080/"
        },
        "id": "ZANR7MWAc51V",
        "outputId": "af3ea120-747c-4dcc-a834-27823076c13a"
      },
      "execution_count": null,
      "outputs": [
        {
          "output_type": "stream",
          "name": "stdout",
          "text": [
            "Predicted value: 1.6480. Difference: 0.49%\n"
          ]
        }
      ]
    }
  ]
}