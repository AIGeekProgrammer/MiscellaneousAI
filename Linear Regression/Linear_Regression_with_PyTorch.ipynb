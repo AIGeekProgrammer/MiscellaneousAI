{
  "nbformat": 4,
  "nbformat_minor": 0,
  "metadata": {
    "colab": {
      "name": "Linear Regression with PyTorch.ipynb",
      "provenance": [],
      "collapsed_sections": [],
      "authorship_tag": "ABX9TyOX8xOlCr9aa4wXtinfEWMY",
      "include_colab_link": true
    },
    "kernelspec": {
      "name": "python3",
      "display_name": "Python 3"
    },
    "language_info": {
      "name": "python"
    }
  },
  "cells": [
    {
      "cell_type": "markdown",
      "metadata": {
        "id": "view-in-github",
        "colab_type": "text"
      },
      "source": [
        "<a href=\"https://colab.research.google.com/github/AIGeekProgrammer/MiscellaneousAI/blob/main/Linear%20Regression/Linear_Regression_with_PyTorch.ipynb\" target=\"_parent\"><img src=\"https://colab.research.google.com/assets/colab-badge.svg\" alt=\"Open In Colab\"/></a>"
      ]
    },
    {
      "cell_type": "markdown",
      "source": [
        "Notebook: Linear Regression on a simple 2D dataset using PyTorch<br>\n",
        "Author: Szymon Manduk<br>\n",
        "Created: 29 Jan 2022<br>\n",
        "Last modyfication: 29 Jan 2022<br>"
      ],
      "metadata": {
        "id": "6mOf0HxI49pl"
      }
    },
    {
      "cell_type": "code",
      "execution_count": 1,
      "metadata": {
        "id": "-D7bC5OO5nX2"
      },
      "outputs": [],
      "source": [
        "import torch\n",
        "import torch.nn as nn\n",
        "import matplotlib.pyplot as plt\n",
        "import numpy as np"
      ]
    },
    {
      "cell_type": "code",
      "source": [
        "# uncomment if in need of the same results from trial to trial\n",
        "# torch.manual_seed(1)"
      ],
      "metadata": {
        "id": "RyjQUvLUToLA"
      },
      "execution_count": 2,
      "outputs": []
    },
    {
      "cell_type": "code",
      "source": [
        "# generate some random data \n",
        "X = torch.randn(100) * 10\n",
        "\n",
        "# the bigger the noice is the more the data is spread. Values from 2 to 5 are fairly reasonable\n",
        "noice = 3\n",
        "\n",
        "# generate output with some gausian noice\n",
        "Y = X + torch.randn(100) * noice "
      ],
      "metadata": {
        "id": "NIUhSS0tGvG6"
      },
      "execution_count": 3,
      "outputs": []
    },
    {
      "cell_type": "code",
      "source": [
        "# Create Linear Regression model using torch Linear\n",
        "from torch.nn.modules.linear import Linear\n",
        "\n",
        "class LR(nn.Module):\n",
        "  def __init__(self, input_size, output_size):\n",
        "    super().__init__()\n",
        "    self.linear = Linear(input_size, output_size)    \n",
        "  def forward(self, x):\n",
        "    return self.linear(x)"
      ],
      "metadata": {
        "id": "bHHejSqB7ELj"
      },
      "execution_count": 4,
      "outputs": []
    },
    {
      "cell_type": "code",
      "source": [
        "# Let's test this simple model looking at the initial output\n",
        "test_model = LR(1,1)\n",
        "\n",
        "# get initial parameters, convert to scalars, print\n",
        "[w, b] = test_model.parameters()\n",
        "w1 = w[0][0].item()\n",
        "b1 = b[0].item()\n",
        "print(w1, b1)\n",
        "\n",
        "# plot initial model\n",
        "x1 = np.array([-30, 30])\n",
        "y1 = w1*x1 + b1\n",
        "plt.plot(x1, y1, 'r')\n",
        "plt.plot(X, Y, 'bo')"
      ],
      "metadata": {
        "id": "bZCntrCTEzPo",
        "colab": {
          "base_uri": "https://localhost:8080/",
          "height": 300
        },
        "outputId": "d7d6a923-bc7b-4390-8115-f24564efcd7d"
      },
      "execution_count": 5,
      "outputs": [
        {
          "output_type": "stream",
          "name": "stdout",
          "text": [
            "0.39494574069976807 -0.27802467346191406\n"
          ]
        },
        {
          "output_type": "execute_result",
          "data": {
            "text/plain": [
              "[<matplotlib.lines.Line2D at 0x7fbdc449de50>]"
            ]
          },
          "metadata": {},
          "execution_count": 5
        },
        {
          "output_type": "display_data",
          "data": {
            "image/png": "[encoded data removed]",
            "text/plain": [
              "<Figure size 432x288 with 1 Axes>"
            ]
          },
          "metadata": {
            "needs_background": "light"
          }
        }
      ]
    },
    {
      "cell_type": "code",
      "source": [
        "# setting hyperparameters\n",
        "in_dimention = 1\n",
        "out_dimention = 1\n",
        "learning_rate = 0.00001\n",
        "epochs = 1000"
      ],
      "metadata": {
        "id": "4VThaQpNV4C6"
      },
      "execution_count": 6,
      "outputs": []
    },
    {
      "cell_type": "code",
      "source": [
        "# create model\n",
        "model = LR(in_dimention, out_dimention)\n",
        "\n",
        "# curious what are initial parameters\n",
        "[w, b] = model.parameters()\n",
        "w1 = w[0][0].item()\n",
        "b1 = b[0].item()\n",
        "print(w1, b1)"
      ],
      "metadata": {
        "id": "H_F4PkL7XGG5",
        "colab": {
          "base_uri": "https://localhost:8080/"
        },
        "outputId": "127bb205-cca3-476d-f028-329173a8e4c2"
      },
      "execution_count": 7,
      "outputs": [
        {
          "output_type": "stream",
          "name": "stdout",
          "text": [
            "-0.2112671136856079 -0.9299386739730835\n"
          ]
        }
      ]
    },
    {
      "cell_type": "code",
      "source": [
        "# create the loss function and the optimizer\n",
        "criterion = torch.nn.MSELoss() \n",
        "optimizer = torch.optim.SGD(model.parameters(), lr=learning_rate)"
      ],
      "metadata": {
        "id": "eyYx3eFAXlIR"
      },
      "execution_count": 8,
      "outputs": []
    },
    {
      "cell_type": "code",
      "source": [
        "# test if we can retrieve training data properly\n",
        "i = 0\n",
        "for x, y in torch.stack((X, Y), dim=1):\n",
        "  x = x.view([1]) \n",
        "  y = y.view([1]) \n",
        "  print(f'x= {x.item()}, y={y.item()}')\n",
        "  i += 1\n",
        "  if i > 5:\n",
        "    break"
      ],
      "metadata": {
        "colab": {
          "base_uri": "https://localhost:8080/"
        },
        "id": "yH8IEzsFEGB9",
        "outputId": "22d1d20a-58d4-4993-e817-f556b48c47aa"
      },
      "execution_count": 9,
      "outputs": [
        {
          "output_type": "stream",
          "name": "stdout",
          "text": [
            "x= 20.24632453918457, y=23.242258071899414\n",
            "x= -0.6600362658500671, y=-4.629915714263916\n",
            "x= -3.918630599975586, y=-2.058356523513794\n",
            "x= 7.035638809204102, y=9.137423515319824\n",
            "x= 3.5753836631774902, y=0.39067649841308594\n",
            "x= 0.7768567800521851, y=-4.081860065460205\n"
          ]
        }
      ]
    },
    {
      "cell_type": "code",
      "source": [
        "# we train the model for # of epochs, printing results every 100 epochs\n",
        "for epoch in range(epochs):\n",
        "  for x, y in torch.stack((X, Y), dim=1):\n",
        "    x = x.view([1])\n",
        "    y = y.view([1])\n",
        "\n",
        "    y_pred = model.forward(x)\n",
        "\n",
        "    loss = criterion(y_pred, y)\n",
        "\n",
        "   \n",
        "    optimizer.zero_grad()\n",
        "    loss.backward()\n",
        "    optimizer.step()\n",
        "    \n",
        "  if epoch%100==0:\n",
        "    print(f'Epoch={epoch}, loss={loss}')"
      ],
      "metadata": {
        "colab": {
          "base_uri": "https://localhost:8080/"
        },
        "id": "fnP0KJAdXJWK",
        "outputId": "9d6128c3-d839-4500-e7be-08aa68d1ba31"
      },
      "execution_count": 10,
      "outputs": [
        {
          "output_type": "stream",
          "name": "stdout",
          "text": [
            "Epoch=0, loss=150.38543701171875\n",
            "Epoch=100, loss=6.488505840301514\n",
            "Epoch=200, loss=5.930007457733154\n",
            "Epoch=300, loss=5.49065637588501\n",
            "Epoch=400, loss=5.1429314613342285\n",
            "Epoch=500, loss=4.866185188293457\n",
            "Epoch=600, loss=4.644845962524414\n",
            "Epoch=700, loss=4.467178821563721\n",
            "Epoch=800, loss=4.3240156173706055\n",
            "Epoch=900, loss=4.2083563804626465\n"
          ]
        }
      ]
    },
    {
      "cell_type": "code",
      "source": [
        "# retrieve trained parameters from the model (w and b)\n",
        "[w, b] = model.parameters()\n",
        "w1 = w[0][0].item()\n",
        "b1 = b[0].item()\n",
        "print(w1, b1)"
      ],
      "metadata": {
        "id": "zQPsBadGgV11",
        "colab": {
          "base_uri": "https://localhost:8080/"
        },
        "outputId": "bd4fe388-08cb-40ce-c02b-ef09df9a8015"
      },
      "execution_count": 11,
      "outputs": [
        {
          "output_type": "stream",
          "name": "stdout",
          "text": [
            "1.0459601879119873 -0.19903354346752167\n"
          ]
        }
      ]
    },
    {
      "cell_type": "code",
      "source": [
        "# draw a line and the training set to check results\n",
        "x1 = np.array([-30, 30])\n",
        "y1 = w1*x1 + b1\n",
        "plt.plot(x1, y1, 'r')\n",
        "plt.plot(X, Y, 'bo')\n",
        "plt.show"
      ],
      "metadata": {
        "id": "Kk9ILZtbRobO",
        "colab": {
          "base_uri": "https://localhost:8080/",
          "height": 283
        },
        "outputId": "ebfc5607-6a8b-4d0b-9f10-c876d9df25c6"
      },
      "execution_count": 12,
      "outputs": [
        {
          "output_type": "execute_result",
          "data": {
            "text/plain": [
              "<function matplotlib.pyplot.show>"
            ]
          },
          "metadata": {},
          "execution_count": 12
        },
        {
          "output_type": "display_data",
          "data": {
            "image/png": "[encoded data removed]",
            "text/plain": [
              "<Figure size 432x288 with 1 Axes>"
            ]
          },
          "metadata": {
            "needs_background": "light"
          }
        }
      ]
    },
    {
      "cell_type": "code",
      "source": [
        ""
      ],
      "metadata": {
        "id": "JrXSxKVRT-nB"
      },
      "execution_count": 12,
      "outputs": []
    }
  ]
}