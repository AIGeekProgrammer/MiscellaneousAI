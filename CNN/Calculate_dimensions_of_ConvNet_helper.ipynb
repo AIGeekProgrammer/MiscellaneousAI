{
  "nbformat": 4,
  "nbformat_minor": 0,
  "metadata": {
    "colab": {
      "name": "Calculate dimensions of ConvNet - helper",
      "provenance": [],
      "collapsed_sections": [],
      "authorship_tag": "ABX9TyMmZiKWu9OXbQDYZPPeHh91",
      "include_colab_link": true
    },
    "kernelspec": {
      "name": "python3",
      "display_name": "Python 3"
    },
    "language_info": {
      "name": "python"
    }
  },
  "cells": [
    {
      "cell_type": "markdown",
      "metadata": {
        "id": "view-in-github",
        "colab_type": "text"
      },
      "source": [
        "<a href=\"https://colab.research.google.com/github/AIGeekProgrammer/MiscellaneousAI/blob/main/CNN/Calculate_dimensions_of_ConvNet_helper.ipynb\" target=\"_parent\"><img src=\"https://colab.research.google.com/assets/colab-badge.svg\" alt=\"Open In Colab\"/></a>"
      ]
    },
    {
      "cell_type": "markdown",
      "source": [
        "Notebook: Helper notebook: to calculate dimensions of CNN<br>\n",
        "Author: Szymon Manduk<br>\n",
        "Created: 27 Feb 2022<br>\n",
        "Notes:<br>\n",
        "General formula with input vector dimensions HxWxC is:<br>\n",
        "floor((W−K+2*P) / S) + 1<br>\n",
        "Where: <br>\n",
        "P - padding<br>\n",
        "S - stride<br>\n",
        "K - kernel size<br>\n",
        "If W <> H then calculations need to be done for both dimensions: Height and Width.<br>\n",
        "2x2 maxpool which will reduce the size of each dimension twice.<br>\n",
        "Batch Normalization layer do not change the size of tensor<br>\n",
        "Before the first densly connected layer we need to flatten"
      ],
      "metadata": {
        "id": "onmFfd0VzPEW"
      }
    },
    {
      "cell_type": "code",
      "source": [
        "import torch"
      ],
      "metadata": {
        "id": "tn3FoEc9w30Y"
      },
      "execution_count": 1,
      "outputs": []
    },
    {
      "cell_type": "code",
      "source": [
        "from torch.nn import Conv2d, MaxPool2d, BatchNorm2d, Linear"
      ],
      "metadata": {
        "id": "Gt-vBdhsb4wf"
      },
      "execution_count": 2,
      "outputs": []
    },
    {
      "cell_type": "code",
      "source": [
        "# This is our input. This has to be updated depending on dimension of input to CNN\n",
        "# Format: Batch size, number of channels, Heigth, Width\n",
        "input = torch.rand((1, 3, 32, 32)) "
      ],
      "metadata": {
        "id": "3p3xpk6JqNk6"
      },
      "execution_count": 6,
      "outputs": []
    },
    {
      "cell_type": "code",
      "source": [
        "# The first layer. \n",
        "# Parameters in this and subsequent layers are just  example values.\n",
        "# Change them accoringly to your architeture.\n",
        "conv_1 = Conv2d(3, 32, 3, padding=1)  "
      ],
      "metadata": {
        "id": "dPkbwCMFqWRE"
      },
      "execution_count": 7,
      "outputs": []
    },
    {
      "cell_type": "code",
      "source": [
        "# Move input tensor through the first layer and display size.\n",
        "# And the move the tensor through the rest of the CNN\n",
        "t1 = conv_1(input)"
      ],
      "metadata": {
        "id": "i0NaSTXYqbT5"
      },
      "execution_count": 8,
      "outputs": []
    },
    {
      "cell_type": "code",
      "source": [
        "t1.size()"
      ],
      "metadata": {
        "colab": {
          "base_uri": "https://localhost:8080/"
        },
        "id": "JOvtPDLqqmW2",
        "outputId": "e665b534-5d15-46ba-a4fb-1acc07586d33"
      },
      "execution_count": 9,
      "outputs": [
        {
          "output_type": "execute_result",
          "data": {
            "text/plain": [
              "torch.Size([1, 32, 32, 32])"
            ]
          },
          "metadata": {},
          "execution_count": 9
        }
      ]
    },
    {
      "cell_type": "code",
      "source": [
        "conv_2 = Conv2d(32, 64, 3)"
      ],
      "metadata": {
        "id": "D_5df795qncf"
      },
      "execution_count": 10,
      "outputs": []
    },
    {
      "cell_type": "code",
      "source": [
        "t2 = conv_2(t1)"
      ],
      "metadata": {
        "id": "VEqcSEjjsBk8"
      },
      "execution_count": 11,
      "outputs": []
    },
    {
      "cell_type": "code",
      "source": [
        "t2.size()"
      ],
      "metadata": {
        "colab": {
          "base_uri": "https://localhost:8080/"
        },
        "id": "m7b3lIOYsGg9",
        "outputId": "2c0d56e5-f710-4b6c-c875-b35849ef26c0"
      },
      "execution_count": 12,
      "outputs": [
        {
          "output_type": "execute_result",
          "data": {
            "text/plain": [
              "torch.Size([1, 64, 30, 30])"
            ]
          },
          "metadata": {},
          "execution_count": 12
        }
      ]
    },
    {
      "cell_type": "code",
      "source": [
        "maxpool_1 = MaxPool2d(2,2)"
      ],
      "metadata": {
        "id": "m3YTwJg5sbUb"
      },
      "execution_count": 13,
      "outputs": []
    },
    {
      "cell_type": "code",
      "source": [
        "t3 = maxpool_1(t2)"
      ],
      "metadata": {
        "id": "WkB8t9VFsl-b"
      },
      "execution_count": 14,
      "outputs": []
    },
    {
      "cell_type": "code",
      "source": [
        "t3.size()"
      ],
      "metadata": {
        "colab": {
          "base_uri": "https://localhost:8080/"
        },
        "id": "vOK33g_CspT1",
        "outputId": "2eb23ce9-92b2-4580-fc2e-7c1e2f756d73"
      },
      "execution_count": 15,
      "outputs": [
        {
          "output_type": "execute_result",
          "data": {
            "text/plain": [
              "torch.Size([1, 64, 15, 15])"
            ]
          },
          "metadata": {},
          "execution_count": 15
        }
      ]
    },
    {
      "cell_type": "code",
      "source": [
        "conv_3 = Conv2d(64, 128, 3)"
      ],
      "metadata": {
        "id": "R9-5FHD1ssg9"
      },
      "execution_count": 16,
      "outputs": []
    },
    {
      "cell_type": "code",
      "source": [
        "t4 = conv_3(t3)"
      ],
      "metadata": {
        "id": "Vm6XY9Fzsy80"
      },
      "execution_count": 17,
      "outputs": []
    },
    {
      "cell_type": "code",
      "source": [
        "t4.size()"
      ],
      "metadata": {
        "colab": {
          "base_uri": "https://localhost:8080/"
        },
        "id": "jIf1m_CdtD3d",
        "outputId": "5565ae72-8f30-44eb-82d4-3d5d8a3915ba"
      },
      "execution_count": 18,
      "outputs": [
        {
          "output_type": "execute_result",
          "data": {
            "text/plain": [
              "torch.Size([1, 128, 13, 13])"
            ]
          },
          "metadata": {},
          "execution_count": 18
        }
      ]
    },
    {
      "cell_type": "code",
      "source": [
        "bn = BatchNorm2d(128)"
      ],
      "metadata": {
        "id": "pjG1pFA1tFs-"
      },
      "execution_count": 19,
      "outputs": []
    },
    {
      "cell_type": "code",
      "source": [
        "t5 = bn(t4)"
      ],
      "metadata": {
        "id": "Bb0MdZHatL1z"
      },
      "execution_count": 20,
      "outputs": []
    },
    {
      "cell_type": "code",
      "source": [
        "t5.size()"
      ],
      "metadata": {
        "colab": {
          "base_uri": "https://localhost:8080/"
        },
        "id": "35CXwWo4tPO4",
        "outputId": "398936c9-2718-4c5e-d2fe-40ee6b13bfdd"
      },
      "execution_count": 21,
      "outputs": [
        {
          "output_type": "execute_result",
          "data": {
            "text/plain": [
              "torch.Size([1, 128, 13, 13])"
            ]
          },
          "metadata": {},
          "execution_count": 21
        }
      ]
    },
    {
      "cell_type": "code",
      "source": [
        "# flatten the output of the last conv layer before the first densely connected layer\n",
        "t6 = t5.reshape(1, 128*13*13) "
      ],
      "metadata": {
        "id": "uEvILgLduwEV"
      },
      "execution_count": 23,
      "outputs": []
    },
    {
      "cell_type": "code",
      "source": [
        "t6.size()"
      ],
      "metadata": {
        "colab": {
          "base_uri": "https://localhost:8080/"
        },
        "id": "CNrsG43Qu29S",
        "outputId": "235d1c89-b55e-4edb-b30f-139bbb9292fb"
      },
      "execution_count": 24,
      "outputs": [
        {
          "output_type": "execute_result",
          "data": {
            "text/plain": [
              "torch.Size([1, 21632])"
            ]
          },
          "metadata": {},
          "execution_count": 24
        }
      ]
    },
    {
      "cell_type": "code",
      "source": [
        "fc1 = Linear(128*13*13, 120)"
      ],
      "metadata": {
        "id": "VnPfkz6ltQyc"
      },
      "execution_count": 25,
      "outputs": []
    },
    {
      "cell_type": "code",
      "source": [
        "t7 = fc1(t6)"
      ],
      "metadata": {
        "id": "gEFtCzMQtbte"
      },
      "execution_count": 26,
      "outputs": []
    },
    {
      "cell_type": "code",
      "source": [
        "t7.size()"
      ],
      "metadata": {
        "colab": {
          "base_uri": "https://localhost:8080/"
        },
        "id": "DKJ5pSz9tjOz",
        "outputId": "d5a2cd78-bb92-4987-8cce-5ad959b879bd"
      },
      "execution_count": 27,
      "outputs": [
        {
          "output_type": "execute_result",
          "data": {
            "text/plain": [
              "torch.Size([1, 120])"
            ]
          },
          "metadata": {},
          "execution_count": 27
        }
      ]
    },
    {
      "cell_type": "code",
      "source": [
        ""
      ],
      "metadata": {
        "id": "QulgzGrgzH70"
      },
      "execution_count": null,
      "outputs": []
    }
  ]
}