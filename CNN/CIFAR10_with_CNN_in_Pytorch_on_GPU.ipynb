{
  "nbformat": 4,
  "nbformat_minor": 0,
  "metadata": {
    "colab": {
      "name": "CIFAR10 with CNN in Pytorch on GPU.ipynb",
      "provenance": [],
      "collapsed_sections": [],
      "authorship_tag": "ABX9TyNzzczIt5tqeok+x2a/zyP+",
      "include_colab_link": true
    },
    "kernelspec": {
      "name": "python3",
      "display_name": "Python 3"
    },
    "language_info": {
      "name": "python"
    },
    "accelerator": "GPU"
  },
  "cells": [
    {
      "cell_type": "markdown",
      "metadata": {
        "id": "view-in-github",
        "colab_type": "text"
      },
      "source": [
        "<a href=\"https://colab.research.google.com/github/AIGeekProgrammer/MiscellaneousAI/blob/main/CNN/CIFAR10_with_CNN_in_Pytorch_on_GPU.ipynb\" target=\"_parent\"><img src=\"https://colab.research.google.com/assets/colab-badge.svg\" alt=\"Open In Colab\"/></a>"
      ]
    },
    {
      "cell_type": "markdown",
      "source": [
        "Notebook:<br>\n",
        "CIFAR10 with CNN using PyTorch on GPU<br>\n",
        "Data divided into train, validation and test datasets<br>\n",
        "Calculating accuracy for train and validation datasets to check overfitting<br>\n",
        "Calculating accuracy for test dataset for final evaluation<br>\n",
        "Author: Szymon Manduk<br>\n",
        "Created: 19 Mar 2022<br>\n",
        "Goals for blog post<br>\n",
        "- How to load and divide dataset into 3 subsets?\n",
        "- How to normalize and denormalize?\n",
        "- How to move computations into GPU?\n",
        "- How to calculate accuracy for all subsets?"
      ],
      "metadata": {
        "id": "8gTZBivHYoOb"
      }
    },
    {
      "cell_type": "code",
      "execution_count": null,
      "metadata": {
        "id": "ACG1MjTJYSFV"
      },
      "outputs": [],
      "source": [
        "# main libraries\n",
        "import torch\n",
        "import torchvision\n",
        "\n",
        "# All datasets in torchvision.dataset are subclasses\n",
        "# of torch.utils.data.Dataset, thus we may use MNIST directly in DataLoader\n",
        "from torchvision.datasets import CIFAR10\n",
        "from torch.utils.data import DataLoader\n",
        "\n",
        "# an optimizer and a loss function\n",
        "from torch.optim import Adam\n",
        "from torch.nn import CrossEntropyLoss\n",
        "\n",
        "# required for creating a model\n",
        "from torch.nn import Conv2d, BatchNorm2d, MaxPool2d, Linear, Dropout\n",
        "import torch.nn.functional as F\n",
        "\n",
        "# tools and helpers\n",
        "import numpy as np  \n",
        "from timeit import default_timer as timer\n",
        "import matplotlib.pyplot as plt\n",
        "from torch.utils.data import random_split\n",
        "from torchvision import transforms\n",
        "import matplotlib.pyplot as plt"
      ]
    },
    {
      "cell_type": "code",
      "source": [
        "# Transformations, including normalization based on mean and std\n",
        "mean = torch.tensor([0.4915, 0.4823, 0.4468])\n",
        "std = torch.tensor([0.2470, 0.2435, 0.2616])\n",
        "\n",
        "transform_train = transforms.Compose([\n",
        "    transforms.ToTensor(),\n",
        "    transforms.Normalize(mean, std)\n",
        "])\n",
        "\n",
        "transform_test = transforms.Compose([\n",
        "    transforms.ToTensor(),\n",
        "    transforms.Normalize(mean, std)    \n",
        "])"
      ],
      "metadata": {
        "id": "plewnKGp6SDz"
      },
      "execution_count": null,
      "outputs": []
    },
    {
      "cell_type": "code",
      "source": [
        "# Download CIFAR10 dataset \n",
        "dataset = CIFAR10('./', train=True, download=True, transform=transform_train)\n",
        "test_dataset = CIFAR10('./', train=False, download=True, transform=transform_test)"
      ],
      "metadata": {
        "colab": {
          "base_uri": "https://localhost:8080/"
        },
        "id": "7IQ-8rulgoLY",
        "outputId": "1872a9a1-31e2-447d-8e1c-caa330ea8d23"
      },
      "execution_count": null,
      "outputs": [
        {
          "output_type": "stream",
          "name": "stdout",
          "text": [
            "Files already downloaded and verified\n",
            "Files already downloaded and verified\n"
          ]
        }
      ]
    },
    {
      "cell_type": "code",
      "source": [
        "dataset_length = len(dataset)\n",
        "print(f'Train and validation dataset size: {dataset_length}')\n",
        "print(f'Test dataset size: {len(test_dataset)}')"
      ],
      "metadata": {
        "colab": {
          "base_uri": "https://localhost:8080/"
        },
        "id": "to-X1a-3g_88",
        "outputId": "819c9caa-beb1-4bfa-c89c-19ee6c8f77d9"
      },
      "execution_count": null,
      "outputs": [
        {
          "output_type": "stream",
          "name": "stdout",
          "text": [
            "Train and validation dataset size: 50000\n",
            "Test dataset size: 10000\n"
          ]
        }
      ]
    },
    {
      "cell_type": "code",
      "source": [
        "# The output of torchvision datasets are PILImage images of range [0, 1]. \n",
        "# but they have been normalized and converted to tensors\n",
        "dataset[0][0][0]"
      ],
      "metadata": {
        "colab": {
          "base_uri": "https://localhost:8080/"
        },
        "id": "DbR9j9J9hH0W",
        "outputId": "f0a21af5-5d52-49f0-8e92-8412b121b94c"
      },
      "execution_count": null,
      "outputs": [
        {
          "output_type": "execute_result",
          "data": {
            "text/plain": [
              "tensor([[-1.0531, -1.3072, -1.1960,  ...,  0.5187,  0.4234,  0.3599],\n",
              "        [-1.7358, -1.9899, -1.7041,  ..., -0.0370, -0.1005, -0.0529],\n",
              "        [-1.5930, -1.7358, -1.2119,  ..., -0.1164, -0.0847, -0.2593],\n",
              "        ...,\n",
              "        [ 1.3125,  1.2014,  1.1537,  ...,  0.5504, -1.1008, -1.1484],\n",
              "        [ 0.8679,  0.7568,  0.9632,  ...,  0.9315, -0.4498, -0.6721],\n",
              "        [ 0.8203,  0.6774,  0.8521,  ...,  1.4395,  0.4075, -0.0370]])"
            ]
          },
          "metadata": {},
          "execution_count": 7
        }
      ]
    },
    {
      "cell_type": "code",
      "source": [
        "# Helper callable class that will un-normalize image and\n",
        "# change the order of tensor elements to display image using pyplot.\n",
        "class Detransform():\n",
        "  def __init__(self, mean, std):\n",
        "    self.mean = mean\n",
        "    self.std = std\n",
        "  \n",
        "  # PIL images loaded into dataset are normalized.\n",
        "  # In order to display them correctly we need to un-normalize them first\n",
        "  def un_normalize_image(self, image):\n",
        "    un_normalize = transforms.Normalize(\n",
        "        (-self.mean / self.std).tolist(), (1.0 / self.std).tolist()\n",
        "    )\n",
        "    return un_normalize(image)\n",
        "  \n",
        "  \n",
        "  # If 'ToTensor' transormation was applied then the PIL images have CHW format.\n",
        "  # To show them using pyplot.imshow(), we need to change it to HWC with \n",
        "  # permute() function.\n",
        "  def reshape(self, image):\n",
        "    return image.permute(1,2,0)\n",
        "\n",
        "  def __call__(self, image):\n",
        "    return self.reshape(self.un_normalize_image(image))"
      ],
      "metadata": {
        "id": "ggnM4J74ycLp"
      },
      "execution_count": null,
      "outputs": []
    },
    {
      "cell_type": "code",
      "source": [
        "# Create detransformer to be used whil printing images\n",
        "detransformer = Detransform(mean, std)"
      ],
      "metadata": {
        "id": "_T_NM-cwQVy9"
      },
      "execution_count": null,
      "outputs": []
    },
    {
      "cell_type": "code",
      "source": [
        "# Translation between class id and name\n",
        "class_translator = {\n",
        "    0 : 'airplane',\n",
        "    1 : 'automobile',\n",
        "    2 : 'bird',\n",
        "    3 : 'cat',\n",
        "    4 : 'deer', \n",
        "    5 : 'dog',\n",
        "    6 : 'frog', \n",
        "    7 : 'horse', \n",
        "    8 : 'ship', \n",
        "    9 : 'truck',\n",
        "}\n",
        "\n",
        "# Helper function printing 9 randomly selected pictures from the dataset\n",
        "def print_images():\n",
        "  fig = plt.figure()\n",
        "  fig.set_size_inches(fig.get_size_inches() * 2)\n",
        "  for i in range(9):\n",
        "    idx = torch.randint(0, 50000, (1,)).item()\n",
        "    picture = detransformer(dataset[idx][0])\n",
        "    ax = plt.subplot(3, 3, i + 1)\n",
        "    ax.set_title(class_translator[dataset[idx][1]] + ' - #' + str(idx))\n",
        "    ax.axis('off')\n",
        "    plt.imshow(picture)\n",
        "  plt.show()"
      ],
      "metadata": {
        "id": "ZssB8ENuRs_F"
      },
      "execution_count": null,
      "outputs": []
    },
    {
      "cell_type": "code",
      "source": [
        "print(f'The first element of the dataset is a {class_translator[dataset[0][1]]}.')"
      ],
      "metadata": {
        "colab": {
          "base_uri": "https://localhost:8080/"
        },
        "id": "oFOlUDqrh8zS",
        "outputId": "767fbbf2-6e30-414a-f648-2f0834a42188"
      },
      "execution_count": null,
      "outputs": [
        {
          "output_type": "stream",
          "name": "stdout",
          "text": [
            "The first element of the dataset is a frog.\n"
          ]
        }
      ]
    },
    {
      "cell_type": "code",
      "source": [
        "image = detransformer(dataset[0][0])\n",
        "plt.imshow(image)"
      ],
      "metadata": {
        "colab": {
          "base_uri": "https://localhost:8080/",
          "height": 283
        },
        "id": "BcFxzuaSifOh",
        "outputId": "e0101ea0-5996-4bc2-ecc0-d509c3565383"
      },
      "execution_count": null,
      "outputs": [
        {
          "output_type": "execute_result",
          "data": {
            "text/plain": [
              "<matplotlib.image.AxesImage at 0x7f8cb82dbbd0>"
            ]
          },
          "metadata": {},
          "execution_count": 12
        },
        {
          "output_type": "display_data",
          "data": {
            "text/plain": [
              "<Figure size 432x288 with 1 Axes>"
            ],
            "image/png": "[encoded data removed]"
          },
          "metadata": {
            "needs_background": "light"
          }
        }
      ]
    },
    {
      "cell_type": "code",
      "source": [
        "print_images()"
      ],
      "metadata": {
        "colab": {
          "base_uri": "https://localhost:8080/",
          "height": 482
        },
        "id": "chRyu8rA-zCU",
        "outputId": "f483bdb8-b0c6-46da-9de3-ae8b713ebe1b"
      },
      "execution_count": null,
      "outputs": [
        {
          "output_type": "display_data",
          "data": {
            "text/plain": [
              "<Figure size 864x576 with 9 Axes>"
            ],
            "image/png": "[encoded data removed]"
          },
          "metadata": {
            "needs_background": "light"
          }
        }
      ]
    },
    {
      "cell_type": "code",
      "source": [
        "# Define dataloaders for the training / validation and test datasets\n",
        "validation_length = 5000\n",
        "batch_size = 256"
      ],
      "metadata": {
        "id": "kHdP0UyZUNKK"
      },
      "execution_count": null,
      "outputs": []
    },
    {
      "cell_type": "code",
      "source": [
        "# Split training dataset between actual train and validation datasets\n",
        "train_dataset, validation_dataset = random_split(dataset, [(dataset_length - validation_length), validation_length])"
      ],
      "metadata": {
        "id": "98ZZSrqQUZE-"
      },
      "execution_count": null,
      "outputs": []
    },
    {
      "cell_type": "code",
      "source": [
        "# Create loader\n",
        "train_dataloader = DataLoader(train_dataset, batch_size=batch_size, shuffle=True)\n",
        "validation_dataloader = DataLoader(validation_dataset, batch_size=batch_size, shuffle=False)\n",
        "test_dataloader = DataLoader(test_dataset, batch_size=batch_size, shuffle=False)"
      ],
      "metadata": {
        "id": "izAyHjdmH76C"
      },
      "execution_count": null,
      "outputs": []
    },
    {
      "cell_type": "code",
      "source": [
        "# Print some statistics\n",
        "print(f'Batch size: {batch_size} data points')\n",
        "print(f'Train dataset (# of batches): {len(train_dataloader)}')\n",
        "print(f'Validation dataset (# of batches): {len(validation_dataloader)}')\n",
        "print(f'Test dataset (# of batches): {len(test_dataloader)}')"
      ],
      "metadata": {
        "id": "yp50OWuSSYag",
        "colab": {
          "base_uri": "https://localhost:8080/"
        },
        "outputId": "62dae920-761b-44a2-dc8b-2dcbf65bb0cd"
      },
      "execution_count": null,
      "outputs": [
        {
          "output_type": "stream",
          "name": "stdout",
          "text": [
            "Batch size: 256 data points\n",
            "Train dataset (# of batches): 176\n",
            "Validation dataset (# of batches): 20\n",
            "Test dataset (# of batches): 40\n"
          ]
        }
      ]
    },
    {
      "cell_type": "code",
      "source": [
        "# Before CNN definition, let's check the sizing of input tensor\n",
        "data, label = next(iter(train_dataloader))\n",
        "print(data.size())\n",
        "print(label.size())"
      ],
      "metadata": {
        "colab": {
          "base_uri": "https://localhost:8080/"
        },
        "id": "dYa5q9rqVXTF",
        "outputId": "8fcbe5e1-151b-4fd5-f2e8-32caee4a4dd5"
      },
      "execution_count": null,
      "outputs": [
        {
          "output_type": "stream",
          "name": "stdout",
          "text": [
            "torch.Size([256, 3, 32, 32])\n",
            "torch.Size([256])\n"
          ]
        }
      ]
    },
    {
      "cell_type": "code",
      "source": [
        "class CifarNN(torch.nn.Module):\n",
        "  def __init__(self):\n",
        "    super().__init__()\n",
        "    self.conv1 = Conv2d(3, 128, kernel_size=(5,5), stride=1, padding='same')  # [B, 128, 32, 32]\n",
        "    self.bnorm1 = BatchNorm2d(128)\n",
        "    self.conv2 = Conv2d(128, 128, kernel_size=(5,5), stride=1, padding='same')  # [B, 128, 32, 32]\n",
        "    self.bnorm2 = BatchNorm2d(128)\n",
        "    self.pool1 = MaxPool2d((2,2))  # [B, 128, 16, 16]\n",
        "    self.conv3 = Conv2d(128, 64, kernel_size=(5,5), stride=1, padding='same')  # [B, 64, 16, 16]\n",
        "    self.bnorm3 = BatchNorm2d(64)\n",
        "    self.conv4 = Conv2d(64, 64, kernel_size=(5,5), stride=1, padding='same')  # [B, 64, 16, 16]\n",
        "    self.bnorm4 = BatchNorm2d(64)\n",
        "    self.pool2 = MaxPool2d((2,2))  # [B, 64, 8, 8]\n",
        "    self.conv5 = Conv2d(64, 32, kernel_size=(5,5), stride=1, padding='same')  # [B, 32, 8, 8]\n",
        "    self.bnorm5 = BatchNorm2d(32)\n",
        "    self.conv6 = Conv2d(32, 32, kernel_size=(5,5), stride=1, padding='same')  # [B, 32, 8, 8]\n",
        "    self.bnorm6 = BatchNorm2d(32)\n",
        "    self.pool3 = MaxPool2d((2,2))  # [B, 32, 4, 4]\n",
        "    self.conv7 = Conv2d(32, 16, kernel_size=(3,3), stride=1, padding='same')  # [B, 16, 4, 4]\n",
        "    self.bnorm7 = BatchNorm2d(16)\n",
        "    self.conv8 = Conv2d(16, 16, kernel_size=(3,3), stride=1, padding='same')  # [B, 16, 4, 4]\n",
        "    self.bnorm8 = BatchNorm2d(16)    \n",
        "    self.linear1 = Linear(16*4*4, 32)\n",
        "    self.drop1 = Dropout(0.15)\n",
        "    self.linear2 = Linear(32, 16)\n",
        "    self.drop2 = Dropout(0.05)\n",
        "    self.linear3 = Linear(16, 10)\n",
        "\n",
        "  def forward(self, x):\n",
        "    # the first conv group\n",
        "    x = self.bnorm1(self.conv1(x))\n",
        "    x = self.bnorm2(self.conv2(x))\n",
        "    x = self.pool1(x)\n",
        "\n",
        "    # the second conv group\n",
        "    x = self.bnorm3(self.conv3(x))\n",
        "    x = self.bnorm4(self.conv4(x))\n",
        "    x = self.pool2(x)\n",
        "\n",
        "    # the third conv group\n",
        "    x = self.bnorm5(self.conv5(x))\n",
        "    x = self.bnorm6(self.conv6(x))\n",
        "    x = self.pool3(x)\n",
        "\n",
        "    # the fourth conv group (no maxpooling at the end)\n",
        "    x = self.bnorm7(self.conv7(x))\n",
        "    x = self.bnorm8(self.conv8(x))\n",
        "\n",
        "    # flatten\n",
        "    x = x.reshape( -1, 16*4*4) \n",
        "\n",
        "    # the first linear layer with ReLU\n",
        "    x = self.linear1(x)\n",
        "    x = F.relu(x)\n",
        "\n",
        "    # the first dropout\n",
        "    x = self.drop1(x)\n",
        "\n",
        "    # the second linear layer with ReLU\n",
        "    x = self.linear2(x)\n",
        "    x = F.relu(x)\n",
        "\n",
        "    # the second dropout\n",
        "    x = self.drop2(x)\n",
        "\n",
        "    # the output layer logits (10 neurons)\n",
        "    x = self.linear3(x)\n",
        "  \n",
        "    return x"
      ],
      "metadata": {
        "id": "KIFR5kuTWSkX"
      },
      "execution_count": null,
      "outputs": []
    },
    {
      "cell_type": "code",
      "source": [
        "device = torch.device('cuda' if torch.cuda.is_available() else 'cpu')\n",
        "print(device)"
      ],
      "metadata": {
        "colab": {
          "base_uri": "https://localhost:8080/"
        },
        "id": "LS9ldU6IZRKW",
        "outputId": "7587b27b-f7e3-43f0-83ae-cebc343f05bd"
      },
      "execution_count": null,
      "outputs": [
        {
          "output_type": "stream",
          "name": "stdout",
          "text": [
            "cuda\n"
          ]
        }
      ]
    },
    {
      "cell_type": "code",
      "source": [
        "model = CifarNN()\n",
        "model = model.to(device)"
      ],
      "metadata": {
        "id": "C0K6n7ZvR37s"
      },
      "execution_count": null,
      "outputs": []
    },
    {
      "cell_type": "code",
      "source": [
        "epochs = 40\n",
        "learning_rate = 0.001\n",
        "train_accuracies = []  # cummulated accuracies from training dataset for each epoch\n",
        "val_accuracies = []  # cummulated accuracies from validation dataset for each epoch\n",
        "optimizer = Adam( model.parameters(), lr=learning_rate)\n",
        "criterion = CrossEntropyLoss()"
      ],
      "metadata": {
        "id": "ldWu583tXzev"
      },
      "execution_count": null,
      "outputs": []
    },
    {
      "cell_type": "code",
      "source": [
        "start = timer()\n",
        "\n",
        "for epoch in range(epochs):\n",
        "  model.train()\n",
        "  train_accuracy = []\n",
        "  for x, y in train_dataloader:\n",
        "    x = x.to(device)\n",
        "    y = y.to(device)    \n",
        "    optimizer.zero_grad()\n",
        "    yhat = model.forward(x)\n",
        "    loss = criterion(yhat, y)\n",
        "    loss.backward()\n",
        "    optimizer.step()\n",
        "    prediction = torch.argmax(yhat, dim=1)\n",
        "    train_accuracy.extend((y == prediction).detach().cpu().numpy()) \n",
        "  train_accuracies.append(np.mean(train_accuracy)*100)\n",
        "\n",
        "  # for every epoch we do a validation step to asses accuracy and overfitting\n",
        "  model.eval()\n",
        "  with torch.no_grad():\n",
        "    val_accuracy = []  # accuracies for each batch of validation dataset\n",
        "    for vx, vy in validation_dataloader:\n",
        "      vx = vx.to(device)\n",
        "      vy = vy.to(device)\n",
        "      yhat = model.forward(vx)\n",
        "      prediction = torch.argmax(yhat, dim=1)\n",
        "    \n",
        "      # to numpy in order to use next the vectorized np.mean\n",
        "      val_accuracy.extend((vy == prediction).detach().cpu().numpy()) \n",
        "    val_accuracies.append(np.mean(val_accuracy)*100)\n",
        "  \n",
        "  # simple logging during training\n",
        "  print(f'Epoch #{epoch+1}. Train accuracy: {np.mean(train_accuracy)*100:.2f}. \\\n",
        "        Validation accuracy: {np.mean(val_accuracy)*100:.2f}')\n",
        "\n",
        "end = timer()"
      ],
      "metadata": {
        "colab": {
          "base_uri": "https://localhost:8080/"
        },
        "id": "--O_MbdaSeAt",
        "outputId": "710f1287-237b-433b-a828-be026c9e0a1e"
      },
      "execution_count": null,
      "outputs": [
        {
          "output_type": "stream",
          "name": "stdout",
          "text": [
            "Epoch #1. Train accuracy: 34.20.         Validation accuracy: 47.32\n",
            "Epoch #2. Train accuracy: 51.58.         Validation accuracy: 57.00\n",
            "Epoch #3. Train accuracy: 58.11.         Validation accuracy: 61.56\n",
            "Epoch #4. Train accuracy: 62.18.         Validation accuracy: 64.16\n",
            "Epoch #5. Train accuracy: 65.03.         Validation accuracy: 67.10\n",
            "Epoch #6. Train accuracy: 67.13.         Validation accuracy: 68.88\n",
            "Epoch #7. Train accuracy: 68.75.         Validation accuracy: 67.42\n",
            "Epoch #8. Train accuracy: 69.96.         Validation accuracy: 69.74\n",
            "Epoch #9. Train accuracy: 71.50.         Validation accuracy: 69.62\n",
            "Epoch #10. Train accuracy: 72.94.         Validation accuracy: 71.76\n",
            "Epoch #11. Train accuracy: 74.09.         Validation accuracy: 70.48\n",
            "Epoch #12. Train accuracy: 75.16.         Validation accuracy: 69.50\n",
            "Epoch #13. Train accuracy: 76.00.         Validation accuracy: 73.06\n",
            "Epoch #14. Train accuracy: 77.10.         Validation accuracy: 72.44\n",
            "Epoch #15. Train accuracy: 78.11.         Validation accuracy: 71.38\n",
            "Epoch #16. Train accuracy: 79.00.         Validation accuracy: 71.76\n",
            "Epoch #17. Train accuracy: 79.26.         Validation accuracy: 73.46\n",
            "Epoch #18. Train accuracy: 80.47.         Validation accuracy: 73.80\n",
            "Epoch #19. Train accuracy: 81.36.         Validation accuracy: 73.72\n",
            "Epoch #20. Train accuracy: 82.21.         Validation accuracy: 71.46\n",
            "Epoch #21. Train accuracy: 82.66.         Validation accuracy: 73.56\n",
            "Epoch #22. Train accuracy: 83.37.         Validation accuracy: 73.22\n",
            "Epoch #23. Train accuracy: 84.01.         Validation accuracy: 73.16\n",
            "Epoch #24. Train accuracy: 84.84.         Validation accuracy: 72.10\n",
            "Epoch #25. Train accuracy: 85.21.         Validation accuracy: 72.52\n",
            "Epoch #26. Train accuracy: 85.72.         Validation accuracy: 73.76\n",
            "Epoch #27. Train accuracy: 86.60.         Validation accuracy: 73.60\n",
            "Epoch #28. Train accuracy: 87.14.         Validation accuracy: 71.12\n",
            "Epoch #29. Train accuracy: 87.50.         Validation accuracy: 74.36\n",
            "Epoch #30. Train accuracy: 88.06.         Validation accuracy: 73.96\n",
            "Epoch #31. Train accuracy: 88.26.         Validation accuracy: 73.42\n",
            "Epoch #32. Train accuracy: 88.98.         Validation accuracy: 74.86\n",
            "Epoch #33. Train accuracy: 89.36.         Validation accuracy: 74.18\n",
            "Epoch #34. Train accuracy: 89.74.         Validation accuracy: 74.64\n",
            "Epoch #35. Train accuracy: 89.84.         Validation accuracy: 74.56\n",
            "Epoch #36. Train accuracy: 90.62.         Validation accuracy: 74.24\n",
            "Epoch #37. Train accuracy: 90.58.         Validation accuracy: 73.34\n",
            "Epoch #38. Train accuracy: 90.86.         Validation accuracy: 73.86\n",
            "Epoch #39. Train accuracy: 91.42.         Validation accuracy: 73.30\n",
            "Epoch #40. Train accuracy: 91.68.         Validation accuracy: 73.40\n"
          ]
        }
      ]
    },
    {
      "cell_type": "code",
      "source": [
        "print(f'Processing time on a GPU: {end-start:.2f}s.') "
      ],
      "metadata": {
        "colab": {
          "base_uri": "https://localhost:8080/"
        },
        "id": "4gwIOmW487DX",
        "outputId": "3f3192ab-e54e-4c5e-d051-6fb3eb448160"
      },
      "execution_count": null,
      "outputs": [
        {
          "output_type": "stream",
          "name": "stdout",
          "text": [
            "Processing time on a GPU: 3113.36s.\n"
          ]
        }
      ]
    },
    {
      "cell_type": "code",
      "source": [
        "plt.plot(train_accuracies, label=\"Train accuracy\")\n",
        "plt.plot(val_accuracies, label=\"Validation accuracy\")\n",
        "leg = plt.legend(loc='lower right')\n",
        "plt.show()"
      ],
      "metadata": {
        "colab": {
          "base_uri": "https://localhost:8080/",
          "height": 265
        },
        "id": "RTvCc4oFrTQs",
        "outputId": "95471275-0d5e-4355-e4db-316d72f14fcc"
      },
      "execution_count": null,
      "outputs": [
        {
          "output_type": "display_data",
          "data": {
            "text/plain": [
              "<Figure size 432x288 with 1 Axes>"
            ],
            "image/png": "[encoded data removed]"
          },
          "metadata": {
            "needs_background": "light"
          }
        }
      ]
    },
    {
      "cell_type": "code",
      "source": [
        "# calculate accuracy on the test dataset that the model has never seen before\n",
        "model.eval()\n",
        "with torch.no_grad():\n",
        "  test_accuracies = []\n",
        "  for x, y in test_dataloader:\n",
        "    x = x.to(device)\n",
        "    y = y.to(device)    \n",
        "    yhat = model.forward(x)\n",
        "    prediction = torch.argmax(yhat, dim=1)\n",
        "    test_accuracies.extend((prediction == y).detach().cpu().numpy())  # we store accuracy using numpy\n",
        "  test_accuracy = np.mean(test_accuracies)*100              # to easily compute mean on boolean values\n",
        "\n",
        "print(f'Accuracy on the test set: {test_accuracy:.2f}%')  "
      ],
      "metadata": {
        "colab": {
          "base_uri": "https://localhost:8080/"
        },
        "id": "7ZvPPWiQeaZi",
        "outputId": "e1036104-9918-4038-b009-1a901104ac64"
      },
      "execution_count": null,
      "outputs": [
        {
          "output_type": "stream",
          "name": "stdout",
          "text": [
            "Accuracy on the test set: 72.78%\n"
          ]
        }
      ]
    },
    {
      "cell_type": "code",
      "source": [
        "# Batch size: 256\n",
        "\n",
        "# Processing time on a CPU: unbearable.\n",
        "# Around 200 iterations on train and validation * 13s = 2600s per epoch\n",
        "# ~43min per epoch\n",
        "# Accuracy on the test set: unknown\n",
        "\n",
        "# Processing time on cuda: \n",
        "# Around 66s per epoch - 40 times faster \n",
        "# Accuracy on the test set: 72% (on 40 epochs)"
      ],
      "metadata": {
        "id": "ZqvZGVQlkoTY"
      },
      "execution_count": null,
      "outputs": []
    },
    {
      "cell_type": "code",
      "source": [
        ""
      ],
      "metadata": {
        "id": "FXz500v2rgjw"
      },
      "execution_count": null,
      "outputs": []
    }
  ]
}